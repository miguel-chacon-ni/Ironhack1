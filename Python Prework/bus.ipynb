{
 "cells": [
  {
   "cell_type": "markdown",
   "metadata": {},
   "source": [
    "<img src=\"https://bit.ly/2VnXWr2\" width=\"100\" align=\"left\">"
   ]
  },
  {
   "cell_type": "markdown",
   "metadata": {},
   "source": [
    "# Bus\n",
    "\n",
    "This bus has a passenger entry and exit control system to monitor the number of occupants it carries and thus detect when there are too many.\n",
    "\n",
    "At each stop, the entry and exit of passengers is represented by a tuple consisting of two integer numbers.\n",
    "```\n",
    "bus_stop = (in, out)\n",
    "```\n",
    "The succession of stops is represented by a list of these tuples.\n",
    "```\n",
    "stops = [(in1, out1), (in2, out2), (in3, out3), (in4, out4)]\n",
    "```\n",
    "\n",
    "## Tools\n",
    "You don't necessarily need to use all the tools. Maybe you opt to use some of them or completely different ones, they are given to help you shape the exercise. Programming exercises can be solved in many different ways.\n",
    "* Data structures: **lists, tuples**\n",
    "* Loop: **while/for loops**\n",
    "* Functions: **min, max, len**\n",
    "\n",
    "## Tasks"
   ]
  },
  {
   "cell_type": "code",
   "execution_count": 10,
   "metadata": {},
   "outputs": [
    {
     "name": "stdout",
     "output_type": "stream",
     "text": [
      "10\n",
      "[10]\n",
      "5\n",
      "[10, 15]\n",
      "8\n",
      "[10, 15, 23]\n",
      "7\n",
      "[10, 15, 23, 30]\n",
      "6\n",
      "[10, 15, 23, 30, 36]\n",
      "6\n",
      "[10, 15, 23, 30, 36, 42]\n",
      "13\n",
      "[10, 15, 23, 30, 36, 42, 55]\n",
      "10\n",
      "[10, 15, 23, 30, 36, 42, 55, 65]\n",
      "5\n",
      "[10, 15, 23, 30, 36, 42, 55, 65, 70]\n",
      "Occupation in each stop: [10, 15, 23, 30, 36, 42, 55, 65, 70]\n"
     ]
    }
   ],
   "source": [
    "# Variables\n",
    "stops = [(10, -0), (4, -1), (3, -5), (3, -4), (5, -1), (1, -5), (5, -8), (4, -6), (2, -3)]\n",
    "\n",
    "n_passengers = []\n",
    "passengers = 0\n",
    "for stop in stops :\n",
    "    print(stop[0]-stop[1])\n",
    "    passengers += stop[0]-stop[1]\n",
    "    n_passengers.append(passengers)\n",
    "    print(n_passengers)    \n",
    "print (\"Occupation in each stop: \"+str(n_passengers))"
   ]
  },
  {
   "cell_type": "markdown",
   "metadata": {},
   "source": [
    "#### 1. Calculate the number of stops."
   ]
  },
  {
   "cell_type": "code",
   "execution_count": 4,
   "metadata": {},
   "outputs": [
    {
     "data": {
      "text/plain": [
       "9"
      ]
     },
     "execution_count": 4,
     "metadata": {},
     "output_type": "execute_result"
    }
   ],
   "source": [
    "len(stops)"
   ]
  },
  {
   "cell_type": "markdown",
   "metadata": {},
   "source": [
    "#### 2. Assign to a variable a list whose elements are the number of passengers at each stop (in-out).\n",
    "Each item depends on the previous item in the list + in - out."
   ]
  },
  {
   "cell_type": "code",
   "execution_count": 4,
   "metadata": {},
   "outputs": [
    {
     "data": {
      "text/plain": [
       "[10, 13, 11, 10, 14, 10, 7, 5, 4]"
      ]
     },
     "execution_count": 4,
     "metadata": {},
     "output_type": "execute_result"
    }
   ],
   "source": [
    "stops = [(10, -0), (4, -1), (3, -5), (3, -4), (5, -1), (1, -5), (5, -8), (4, -6), (2, -3)]\n",
    "stop0=sum(list(stops[0]))\n",
    "stop1=sum(list(stops[1]))\n",
    "stop2=sum(list(stops[2]))\n",
    "stop3=sum(list(stops[3]))\n",
    "stop4=sum(list(stops[4]))\n",
    "stop5=sum(list(stops[5]))\n",
    "stop6=sum(list(stops[6]))\n",
    "stop7=sum(list(stops[7]))\n",
    "stop8=sum(list(stops[8]))\n",
    "stops_running=[stop0,stop0+stop1,stop0+stop1+stop2,stop0+stop1+stop2+stop3,stop0+stop1+stop2+stop3+stop4,stop0+stop1+stop2+stop3+stop4+stop5,stop0+stop1+stop2+stop3+stop4+stop5+stop6,stop0+stop1+stop2+stop3+stop4+stop5+stop6+stop7,stop0+stop1+stop2+stop3+stop4+stop5+stop6+stop7+stop8]\n",
    "stops_running"
   ]
  },
  {
   "cell_type": "code",
   "execution_count": 7,
   "metadata": {},
   "outputs": [
    {
     "data": {
      "text/plain": [
       "0"
      ]
     },
     "execution_count": 7,
     "metadata": {},
     "output_type": "execute_result"
    }
   ],
   "source": [
    "stops[0][1]"
   ]
  },
  {
   "cell_type": "markdown",
   "metadata": {},
   "source": [
    "#### 3. Find the maximum occupation of the bus."
   ]
  },
  {
   "cell_type": "code",
   "execution_count": 5,
   "metadata": {},
   "outputs": [
    {
     "data": {
      "text/plain": [
       "14"
      ]
     },
     "execution_count": 5,
     "metadata": {},
     "output_type": "execute_result"
    }
   ],
   "source": [
    "#This also works on the Python shell, as stops_running was not defined here\n",
    "max(stops_running)"
   ]
  },
  {
   "cell_type": "markdown",
   "metadata": {},
   "source": [
    "#### 4. Calculate the average occupation. And the standard deviation."
   ]
  },
  {
   "cell_type": "code",
   "execution_count": 13,
   "metadata": {},
   "outputs": [
    {
     "name": "stdout",
     "output_type": "stream",
     "text": [
      "9.333333333333334\n"
     ]
    },
    {
     "data": {
      "text/plain": [
       "3.391164991562634"
      ]
     },
     "execution_count": 13,
     "metadata": {},
     "output_type": "execute_result"
    }
   ],
   "source": [
    "import statistics as stats\n",
    "Average=sum(stops_running)/len(stops_running)\n",
    "print(Average)\n",
    "stats.stdev(stops_running)"
   ]
  }
 ],
 "metadata": {
  "kernelspec": {
   "display_name": "Python 3",
   "language": "python",
   "name": "python3"
  },
  "language_info": {
   "codemirror_mode": {
    "name": "ipython",
    "version": 3
   },
   "file_extension": ".py",
   "mimetype": "text/x-python",
   "name": "python",
   "nbconvert_exporter": "python",
   "pygments_lexer": "ipython3",
   "version": "3.8.3"
  }
 },
 "nbformat": 4,
 "nbformat_minor": 2
}
