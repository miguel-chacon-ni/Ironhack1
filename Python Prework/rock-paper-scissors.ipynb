{
 "cells": [
  {
   "cell_type": "markdown",
   "metadata": {},
   "source": [
    "<img src=\"https://bit.ly/2VnXWr2\" width=\"100\" align=\"left\">"
   ]
  },
  {
   "cell_type": "markdown",
   "metadata": {},
   "source": [
    "# Rock, Paper & Scissors\n",
    "\n",
    "Let's play the famous game against our computer. You can check the rules [here](https://en.wikipedia.org/wiki/Rock%E2%80%93paper%E2%80%93scissors). \n",
    "\n",
    "## Task\n",
    "Create a program that imitates the playability of the well known game of rock, paper, scissors. Follow the guidelines provided.\n",
    "\n",
    "## Tools\n",
    "1. Loop: **for/while**\n",
    "2. Functions: **input(), print()...**\n",
    "3. Conditional statements: **if, elif, else**\n",
    "4. Definition of functions. Modular programming\n",
    "5. Import modules\n",
    "\n",
    "**To solve this challenge, the use of functions is recommended.**\n",
    "\n",
    "#### 1. Import the choice function of the random module."
   ]
  },
  {
   "cell_type": "code",
   "execution_count": 2,
   "metadata": {},
   "outputs": [],
   "source": [
    "import random"
   ]
  },
  {
   "cell_type": "markdown",
   "metadata": {},
   "source": [
    "#### 2. Create a list that includes the 3 possible gesture options of the game: 'rock', 'paper' or 'scissors'. Store the list in a variable called `gestures`."
   ]
  },
  {
   "cell_type": "code",
   "execution_count": 3,
   "metadata": {},
   "outputs": [
    {
     "data": {
      "text/plain": [
       "['Rock', 'Paper', 'Scissors']"
      ]
     },
     "execution_count": 3,
     "metadata": {},
     "output_type": "execute_result"
    }
   ],
   "source": [
    "gestures=[\"Rock\",\"Paper\",\"Scissors\"]\n",
    "gestures"
   ]
  },
  {
   "cell_type": "markdown",
   "metadata": {},
   "source": [
    "#### 3. Create a variable called `n_rounds` to store the maximum number of rounds to play in a game. \n",
    "Remember that the number of rounds must be odd: 1, 3, 5, ..."
   ]
  },
  {
   "cell_type": "code",
   "execution_count": 4,
   "metadata": {},
   "outputs": [],
   "source": [
    "n_rounds=3"
   ]
  },
  {
   "cell_type": "markdown",
   "metadata": {},
   "source": [
    "#### 4. Create a variable called `rounds_to_win` to store the number of rounds that a player must win to win the game.\n",
    "**Hint**: the value stored in `rounds_to_win` depends on the value of `n_rounds`. "
   ]
  },
  {
   "cell_type": "code",
   "execution_count": 34,
   "metadata": {},
   "outputs": [],
   "source": [
    "rounds_to_win=2\n",
    "round=0"
   ]
  },
  {
   "cell_type": "markdown",
   "metadata": {},
   "source": [
    "#### 5. Create two variables to store the number of rounds that the computer and the player have won. Call these variables `cpu_score` and `player_score`."
   ]
  },
  {
   "cell_type": "code",
   "execution_count": 35,
   "metadata": {},
   "outputs": [],
   "source": [
    "cpu_score=0\n",
    "player_score=0"
   ]
  },
  {
   "cell_type": "markdown",
   "metadata": {},
   "source": [
    "#### 6. Define a function that randomly returns one of the 3 gesture options.\n",
    "You will use this function to simulate the gesture choice of the computer. "
   ]
  },
  {
   "cell_type": "code",
   "execution_count": 36,
   "metadata": {},
   "outputs": [
    {
     "name": "stdout",
     "output_type": "stream",
     "text": [
      "Paper\n"
     ]
    }
   ],
   "source": [
    "cpu=random.choice(gestures)\n",
    "print(cpu)"
   ]
  },
  {
   "cell_type": "markdown",
   "metadata": {},
   "source": [
    "#### 7. Define a function that asks the player which is the gesture he or she wants to show: 'rock', 'paper' or 'scissors'.\n",
    "The player should only be allowed to choose one of the 3 gesture options. If the player's choice is not rock, paper or scissors, keep asking until it is."
   ]
  },
  {
   "cell_type": "code",
   "execution_count": 10,
   "metadata": {},
   "outputs": [],
   "source": [
    "true=0\n",
    "if decision==\"Rock\":\n",
    "    true=true+1\n",
    "    print\n",
    "if decision==\"Paper\":\n",
    "    true=true+1\n",
    "    print\n",
    "if decision==\"Scissors\":\n",
    "    true=true+1\n",
    "    print\n",
    "    "
   ]
  },
  {
   "cell_type": "code",
   "execution_count": 13,
   "metadata": {},
   "outputs": [
    {
     "name": "stdout",
     "output_type": "stream",
     "text": [
      "Choose Rock, Paper, or Scissors!:Rock\n",
      "Rock It is!\n"
     ]
    }
   ],
   "source": [
    "decision = input(\"Choose Rock, Paper, or Scissors!:\")\n",
    "true=0\n",
    "if decision==\"Rock\":\n",
    "    true=true+1\n",
    "if decision==\"Paper\":\n",
    "    true=true+1\n",
    "if decision==\"Scissors\":\n",
    "    true=true+1\n",
    "if true>0:\n",
    "    print(decision + \" It is!\")\n",
    "if true==0:\n",
    "    raise ValueError(\"Invalid choice. Input, must be Rock, Paper, or Scissors\")"
   ]
  },
  {
   "cell_type": "markdown",
   "metadata": {},
   "source": [
    "#### 8. Define a function that checks who won a round. \n",
    "The function should return 0 if there is a tie, 1 if the computer wins and 2 if the player wins."
   ]
  },
  {
   "cell_type": "code",
   "execution_count": 46,
   "metadata": {},
   "outputs": [
    {
     "name": "stdout",
     "output_type": "stream",
     "text": [
      "Tie!\n"
     ]
    }
   ],
   "source": [
    "\n",
    "if cpu==\"Paper\" and decision==\"Rock\":\n",
    "        cpu_score=cpu_score+1\n",
    "        print(\"You Lose!\")\n",
    "if cpu==\"Paper\" and decision==\"Scissors\":\n",
    "        player_score=player_score+1\n",
    "        print(\"You Win!\")\n",
    "if cpu==\"Paper\" and decision==\"Paper\":\n",
    "        print(\"Tie!\")\n",
    "if cpu==\"Rock\" and decision==\"Rock\":\n",
    "        print(\"Tie!\")\n",
    "if cpu==\"Rock\" and decision==\"Scissors\":\n",
    "        cpu_score=cpu_score+1\n",
    "        print(\"You Lose!\")\n",
    "if cpu==\"Rock\" and decision==\"Paper\":\n",
    "        player_score=player_score+1\n",
    "        print(\"You Win!\")\n",
    "if cpu==\"Scissors\" and decision==\"Rock\":\n",
    "        player_score=player_score+1\n",
    "        print(\"You Win!\")\n",
    "if cpu==\"Scissors\" and decision==\"Scissors\":\n",
    "            print(\"Tie!\")\n",
    "if cpu==\"Scissors\" and decision==\"Paper\":\n",
    "        cpu_score=cpu_score+1\n",
    "        print(\"You Lose!\")\n",
    "\n"
   ]
  },
  {
   "cell_type": "markdown",
   "metadata": {},
   "source": [
    "#### 9. Define a function that prints the choice of the computer, the choice of the player and a message that announces who won the current round. \n",
    "You should also use this function to update the variables that count the number of rounds that the computer and the player have won. The score of the winner increases by one point. If there is a tie, the score does not increase."
   ]
  },
  {
   "cell_type": "code",
   "execution_count": 27,
   "metadata": {},
   "outputs": [],
   "source": [
    "#see next cell"
   ]
  },
  {
   "cell_type": "markdown",
   "metadata": {},
   "source": [
    "#### 10. Now it's time to code the execution of the game using the functions and variables you defined above. \n",
    "\n",
    "First, create a loop structure that repeats while no player reaches the minimum score necessary to win and the number of rounds is less than the maximum number of rounds to play in a game.  \n",
    "\n",
    "Inside the loop, use the functions and variables above to create the execution of a round: ask for the player's choice, generate the random choice of the computer, show the round results, update the scores, etc. "
   ]
  },
  {
   "cell_type": "code",
   "execution_count": 52,
   "metadata": {},
   "outputs": [
    {
     "name": "stdout",
     "output_type": "stream",
     "text": [
      "Choose Rock, Paper, or Scissors!:Paper\n",
      "Error. Insert Coins\n"
     ]
    }
   ],
   "source": [
    "round=round+1\n",
    "cpu=random.choice(gestures)\n",
    "decision = input(\"Choose Rock, Paper, or Scissors!:\")\n",
    "true=0\n",
    "if decision==\"Rock\":\n",
    "    true=true+1\n",
    "if decision==\"Paper\":\n",
    "    true=true+1\n",
    "if decision==\"Scissors\":\n",
    "    true=true+1\n",
    "if true>0 and round <3:\n",
    "    print(decision + \" it is!\")\n",
    "if true==0:\n",
    "    raise ValueError(\"Invalid choice. Input, must be Rock, Paper, or Scissors\")\n",
    "cpu\n",
    "if round <3:\n",
    "    print(\"The computer played\",cpu,\"!\")\n",
    "if cpu==\"Paper\" and decision==\"Rock\" and round <3:\n",
    "        cpu_score=cpu_score+1\n",
    "        print(\"You Lose!\")\n",
    "if cpu==\"Paper\" and decision==\"Scissors\" and round <3:\n",
    "        player_score=player_score+1\n",
    "        print(\"You Win!\")\n",
    "if cpu==\"Paper\" and decision==\"Paper\" and round <3:\n",
    "        print(\"Tie!\")\n",
    "if cpu==\"Rock\" and decision==\"Rock\" and round <3:\n",
    "        print(\"Tie!\")\n",
    "if cpu==\"Rock\" and decision==\"Scissors\" and round <3:\n",
    "        cpu_score=cpu_score+1\n",
    "        print(\"You Lose!\")\n",
    "if cpu==\"Rock\" and decision==\"Paper\" and round <3:\n",
    "        player_score=player_score+1\n",
    "        print(\"You Win!\")\n",
    "if cpu==\"Scissors\" and decision==\"Rock\" and round <3:\n",
    "        player_score=player_score+1\n",
    "        print(\"You Win!\")\n",
    "if cpu==\"Scissors\" and decision==\"Scissors\" and round <3:\n",
    "            print(\"Tie!\")\n",
    "if cpu==\"Scissors\" and decision==\"Paper\" and round <3:\n",
    "        cpu_score=cpu_score+1\n",
    "        print(\"You Lose!\")\n",
    "if round<4:\n",
    "    print(\"The score is: Computer\", cpu_score, \"; Player\", player_score,\"!\")\n",
    "if cpu_score<2 and player_score< 2 and round<3:\n",
    "    Print(\"Go again!\")\n",
    "if cpu_score>1 and player_score<1 and round<4:\n",
    "        print (\"Game Over. You lose!\")\n",
    "if player_score>1 and cpu_score <1 and round<4:\n",
    "        print (\"You Win!\")\n",
    "if player_score==cpu_score and round==3:\n",
    "        print(\"It's a draw :(\")\n",
    "if round <3:\n",
    "    print(\"Ready for round\", round)\n",
    "if round>3:\n",
    "    print(\"Error. Insert Coins\")"
   ]
  },
  {
   "cell_type": "markdown",
   "metadata": {},
   "source": [
    "#### 11. Print the winner of the game based on who won more rounds.\n",
    "Remember that the game might be tied. "
   ]
  },
  {
   "cell_type": "code",
   "execution_count": 57,
   "metadata": {},
   "outputs": [
    {
     "name": "stdout",
     "output_type": "stream",
     "text": [
      "Game Over. You lose!\n"
     ]
    }
   ],
   "source": [
    "if cpu_score>player_score:\n",
    "        print (\"Game Over. You lose!\")\n",
    "if player_score>cpu_score:\n",
    "        print (\"You Win!\")\n",
    "if player_score==cpu_score:\n",
    "        print(\"It's a draw :(\")\n"
   ]
  },
  {
   "cell_type": "markdown",
   "metadata": {},
   "source": [
    "# Bonus: Rock, Paper, Scissors, Lizard & Spock\n",
    "![](images/rpsls.jpg)\n",
    "\n",
    "In this challenge, you need to improve the previous game by adding two new options. To know more about the rules of the improved version of rock, paper, scissors, check this [link](http://www.samkass.com/theories/RPSSL.html). \n",
    "\n",
    "In addition, you will also need to improve how the game interacts with the player: the number of rounds to play, which must be an odd number, will be requested to the user until a valid number is entered. Define a new function to make that request.\n",
    "\n",
    "**Hint**: Try to reuse the code that you already coded in the previous challenge. If your code is efficient, this bonus will only consist of simple modifications to the original game."
   ]
  },
  {
   "cell_type": "code",
   "execution_count": null,
   "metadata": {},
   "outputs": [],
   "source": []
  },
  {
   "cell_type": "code",
   "execution_count": 1,
   "metadata": {},
   "outputs": [
    {
     "name": "stderr",
     "output_type": "stream",
     "text": [
      "IOPub data rate exceeded.\n",
      "The notebook server will temporarily stop sending output\n",
      "to the client in order to avoid crashing it.\n",
      "To change this limit, set the config variable\n",
      "`--NotebookApp.iopub_data_rate_limit`.\n",
      "\n",
      "Current values:\n",
      "NotebookApp.iopub_data_rate_limit=1000000.0 (bytes/sec)\n",
      "NotebookApp.rate_limit_window=3.0 (secs)\n",
      "\n"
     ]
    }
   ],
   "source": [
    "import random\n",
    "import statistics\n",
    "random_numbers=[]\n",
    "unique_numbers=[]\n",
    "for x in range(0,100):\n",
    "    random_numbers.append(random.randint(0,100))\n",
    "    for y in range (0,10000):\n",
    "        unique_numbers.append(len(set(random_numbers)))\n",
    "print(statistics.mean(unique_numbers))\n",
    "print(unique_numbers)"
   ]
  }
 ],
 "metadata": {
  "kernelspec": {
   "display_name": "Python 3",
   "language": "python",
   "name": "python3"
  },
  "language_info": {
   "codemirror_mode": {
    "name": "ipython",
    "version": 3
   },
   "file_extension": ".py",
   "mimetype": "text/x-python",
   "name": "python",
   "nbconvert_exporter": "python",
   "pygments_lexer": "ipython3",
   "version": "3.8.3"
  }
 },
 "nbformat": 4,
 "nbformat_minor": 2
}
