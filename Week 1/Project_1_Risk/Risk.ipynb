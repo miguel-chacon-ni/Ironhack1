{
 "cells": [
  {
   "cell_type": "code",
   "execution_count": 49,
   "metadata": {},
   "outputs": [],
   "source": [
    "import random"
   ]
  },
  {
   "cell_type": "code",
   "execution_count": 11,
   "metadata": {},
   "outputs": [],
   "source": [
    "#Not sure whether this will be included. It is a dictionary containing the list of starting regions per player and the number of infantry in each.\n",
    "#Moravia wants to be in charge and is trying to take over Bohemia\n",
    "player_territories={\"Brno\":5,\"Vysocina\":5,\"Olomouc\":5,\"Moravian Silesia\":5,\"Zlin\":5}\n",
    "cpu_territories={\"Prague\":5,\"Pardubice\":5,\"Karlovy vary\":5,\"Plzen\":5,\"South Bohemia\":5,\"Liberec\":5,\"Hradec Kralove\":5,\"Usti nad Labem\":5}\n"
   ]
  },
  {
   "cell_type": "code",
   "execution_count": 19,
   "metadata": {
    "scrolled": false
   },
   "outputs": [
    {
     "name": "stdout",
     "output_type": "stream",
     "text": [
      "\n"
     ]
    }
   ],
   "source": [
    "#here we decide which region to attack\n",
    "def choose_conquest():\n",
    "    c=input (\"Which region will you conquer: Anatolia, Syria, Phoenicia, Judea, Gaza, Egypt, Mesopotamia, Persia or Bactria?\")\n",
    "    if c!='Anatolia' or c!='Syria' or c!='Phoenicia' or c!='Judea' or c!='Gaza' or c!='Egypt' or c!='Mesopotamia' or c!='Persia' or c!='Bactria':  \n",
    "        print(\"ERROR: You must pick one of the regions provided\")\n",
    "print(c)"
   ]
  },
  {
   "cell_type": "code",
   "execution_count": 77,
   "metadata": {
    "scrolled": true
   },
   "outputs": [
    {
     "name": "stdout",
     "output_type": "stream",
     "text": [
      "Type Roll to attack! Roll\n",
      "You got 6, 5, and 4!\n",
      "Your opponent got 4 and 2!\n"
     ]
    }
   ],
   "source": [
    "#This is the very base of the game\n",
    "x=input (\"Type Roll to attack! \")\n",
    "if x!=\"Roll\":\n",
    "    print(\"ERROR: You must type 'Roll'\")\n",
    "attacker_roll=[]\n",
    "defender_roll=[]\n",
    "while len(attacker_roll)<3:\n",
    "    attacker_roll.append(random.randint(1,6))\n",
    "\n",
    "while len(defender_roll)<2:\n",
    "    defender_roll.append(random.randint(1,6))\n",
    "\n",
    "attacker_roll.sort(reverse=True)\n",
    "defender_roll.sort(reverse=True)\n",
    "if x==\"Roll\":\n",
    "    print (\"You got \" + str(attacker_roll[0])+ \", \"+str(attacker_roll[1])+\", and \"+str(attacker_roll[2]) + \"!\")\n",
    "    print (\"Your opponent got \" + str(defender_roll[0])+ \" and \"+str(defender_roll[1])+ \"!\")\n"
   ]
  },
  {
   "cell_type": "code",
   "execution_count": null,
   "metadata": {},
   "outputs": [],
   "source": [
    "#Here we move on to who wins. We can later add conditionals for when less infanrtry remains\n",
    "results=[]\n",
    "if defender_roll[0]>=attacker_roll[0] and defender_roll[1]>=attacker_roll[1]:\n",
    "    print(\"You've lost both battles and are down two infantry!\")\n",
    "if defender_roll[0]<attacker_roll[0] and defender_roll[1]<attacker_roll[1]:\n",
    "    print(\"You've won both battles! Your opponent is down two infatry!\")\n",
    "if defender_roll[0]<attacker_roll[0] and defender_roll[1]>=attacker_roll[1]:\n",
    "    print(\"You've lost the first battle but won the second! You've each lost one infantry!\")\n",
    "if defender_roll[0]>=attacker_roll[0] and defender_roll[1]<attacker_roll[1]:\n",
    "    print(\"You've won the first battle but lost the second! You're each down one infantry!\")\n",
    "    "
   ]
  },
  {
   "cell_type": "markdown",
   "metadata": {},
   "source": [
    "## Next, we merge the dice-rolling and the winner code and create scenarios depending on the number of infantry the attacker and defender have"
   ]
  },
  {
   "cell_type": "code",
   "execution_count": 62,
   "metadata": {},
   "outputs": [],
   "source": [
    "#Attacker has three or more infantry and defender has two or more \n",
    "def three_v_two():\n",
    "    global foreign_regions\n",
    "    global n_player\n",
    "    global c\n",
    "    x=input (\"Type Roll to attack!\")\n",
    "    if x!=\"Roll\":\n",
    "        print(\"ERROR: You must type 'Roll'\")\n",
    "    attacker_roll=[]\n",
    "    defender_roll=[]\n",
    "    while len(attacker_roll)<3:\n",
    "        attacker_roll.append(random.randint(1,6))\n",
    "\n",
    "    while len(defender_roll)<2:\n",
    "        defender_roll.append(random.randint(1,6))\n",
    "\n",
    "    attacker_roll.sort(reverse=True)\n",
    "    defender_roll.sort(reverse=True)\n",
    "    if x==\"Roll\":\n",
    "        print (\"You got \" + str(attacker_roll[0])+ \", \"+str(attacker_roll[1])+\", and \"+str(attacker_roll[2]) + \"!\")\n",
    "        print (\"Your opponent got \" + str(defender_roll[0])+ \" and \"+str(defender_roll[1])+ \"!\")\n",
    "    if defender_roll[0]>=attacker_roll[0] and defender_roll[1]>=attacker_roll[1]:\n",
    "        n_player=n_player-2\n",
    "        print(\"You've lost both battles and are down two infantry!\")\n",
    "    if defender_roll[0]<attacker_roll[0] and defender_roll[1]<attacker_roll[1]:\n",
    "        foreign_regions[c]=foreign_regions[c]-2\n",
    "        print(\"You've won both battles!\"+ c + \" is down two infatry!\")\n",
    "    if defender_roll[0]<attacker_roll[0] and defender_roll[1]>=attacker_roll[1]:\n",
    "        n_player=n_player-1\n",
    "        foreign_regions[c]=foreign_regions[c]-1\n",
    "        print(\"You've lost the first battle but won the second! You've each lost one infantry!\")\n",
    "    if defender_roll[0]>=attacker_roll[0] and defender_roll[1]<attacker_roll[1]:\n",
    "        n_player=n_player-1\n",
    "        foreign_regions[c]=foreign_regions[c]-1\n",
    "        print(\"You've won the first battle but lost the second! You're each down one infantry!\")\n",
    "    print(\"You have \" + str(n_player) + \" infantry left. \"+ str(foreign_regions[c]) + \" infantry remain garrisoned in \" + c)"
   ]
  },
  {
   "cell_type": "code",
   "execution_count": 61,
   "metadata": {},
   "outputs": [],
   "source": [
    "#Attacker has three or more and defender has one\n",
    "def three_v_one():\n",
    "    global foreign_regions\n",
    "    global n_player\n",
    "    x=input (\"Type Roll to attack!\")\n",
    "    if x!=\"Roll\":\n",
    "        print(\"ERROR: You must type 'Roll'\")\n",
    "    attacker_roll=[]\n",
    "    defender_roll=[]\n",
    "    while len(attacker_roll)<3:\n",
    "        attacker_roll.append(random.randint(1,6))\n",
    "\n",
    "    while len(defender_roll)<1:\n",
    "        defender_roll.append(random.randint(1,6))\n",
    "\n",
    "    attacker_roll.sort(reverse=True)\n",
    "    defender_roll.sort(reverse=True)\n",
    "    if x==\"Roll\":\n",
    "        print (\"You got \" + str(attacker_roll[0])+ \", \"+str(attacker_roll[1])+\", and \"+str(attacker_roll[2]) + \"!\")\n",
    "        print (\"Your opponent got \" + str(defender_roll[0])+ \"!\")\n",
    "        results=[]\n",
    "    if defender_roll[0]>=attacker_roll[0]:\n",
    "        n_player=n_player-1\n",
    "        print(\"You've lost the battle and are down one infantry!\")\n",
    "    if defender_roll[0]<attacker_roll[0]:\n",
    "        foreign_regions[c]=foreign_regions[c]-1\n",
    "        print(\"You've won the battle and taken the region!\")\n",
    "    print(\"You have \" + str(n_player) + \" infantry left. \"+ str(foreign_regions[c]) + \" infantry remain garrisoned in \" + c)"
   ]
  },
  {
   "cell_type": "code",
   "execution_count": 60,
   "metadata": {},
   "outputs": [],
   "source": [
    "##Attacker has two infanrty and defender has two or more \n",
    "def two_v_two():\n",
    "    global foreign_regions\n",
    "    global n_player\n",
    "    x=input (\"Type Roll to attack!\")\n",
    "    if x!=\"Roll\":\n",
    "        print(\"ERROR: You must type 'Roll'\")\n",
    "    attacker_roll=[]\n",
    "    defender_roll=[]\n",
    "    while len(attacker_roll)<2:\n",
    "        attacker_roll.append(random.randint(1,6))\n",
    "\n",
    "    while len(defender_roll)<2:\n",
    "        defender_roll.append(random.randint(1,6))\n",
    "\n",
    "    attacker_roll.sort(reverse=True)\n",
    "    defender_roll.sort(reverse=True)\n",
    "    if x==\"Roll\":\n",
    "        print (\"You got \" + str(attacker_roll[0])+ \", \"+str(attacker_roll[1])+ \"!\")\n",
    "        print (\"Your opponent got \" + str(defender_roll[0])+ \" and \"+str(defender_roll[1])+ \"!\")\n",
    "    results=[]\n",
    "    if defender_roll[0]>=attacker_roll[0] and defender_roll[1]>=attacker_roll[1]:\n",
    "        n_player=n_player-2\n",
    "        print(\"You've lost both battles and have lost the war!\")\n",
    "    if defender_roll[0]<attacker_roll[0] and defender_roll[1]<attacker_roll[1]:\n",
    "        foreign_regions=foreign_regions-2\n",
    "        print(\"You've won both battles! Your opponent is down two infatry!\")\n",
    "    if defender_roll[0]<attacker_roll[0] and defender_roll[1]>=attacker_roll[1]:\n",
    "        n_player=n_player-1\n",
    "        foreign_regions=foreign_regions-1\n",
    "        print(\"You've lost the first battle but won the second! You've each lost one infantry!\")\n",
    "    if defender_roll[0]>=attacker_roll[0] and defender_roll[1]<attacker_roll[1]:\n",
    "        n_player=n_player-1\n",
    "        foreign_regions=foreign_regions-1\n",
    "        print(\"You've won the first battle but lost the second! You're each down one infantry!\")\n",
    "    print(\"You have \" + str(n_player) + \" infantry left. \"+ str(foreign_regions[c]) + \" infantry remain garrisoned in \" + c)"
   ]
  },
  {
   "cell_type": "code",
   "execution_count": 59,
   "metadata": {},
   "outputs": [],
   "source": [
    "#Attacker has two and defender has one\n",
    "def two_v_one():\n",
    "    global foreign_regions\n",
    "    global n_player    \n",
    "    x=input (\"Type Roll to attack!\")\n",
    "    if x!=\"Roll\":\n",
    "        print(\"ERROR: You must type 'Roll'\")\n",
    "    attacker_roll=[]\n",
    "    defender_roll=[]\n",
    "    while len(attacker_roll)<2:\n",
    "        attacker_roll.append(random.randint(1,6))\n",
    "\n",
    "    while len(defender_roll)<1:\n",
    "        defender_roll.append(random.randint(1,6))\n",
    "\n",
    "    attacker_roll.sort(reverse=True)\n",
    "    defender_roll.sort(reverse=True)\n",
    "    if x==\"Roll\":\n",
    "        print (\"You got \" + str(attacker_roll[0])+ \", \"+str(attacker_roll[1])+ \"!\")\n",
    "        print (\"Your opponent got \" + str(defender_roll[0])+ \"!\")\n",
    "        results=[]\n",
    "    if defender_roll[0]>=attacker_roll[0]:\n",
    "        n_player=n_player-1\n",
    "        print(\"You've lost the battle and are down one infantry!\")\n",
    "    if defender_roll[0]<attacker_roll[0]:\n",
    "        foreign_regions=foreign_regions-1\n",
    "        print(\"You've won the battle and taken the region!\")\n",
    "    print(\"You have \" + str(n_player) + \" infantry left. \"+ str(foreign_regions[c]) + \" infantry remain garrisoned in \" + c)"
   ]
  },
  {
   "cell_type": "code",
   "execution_count": 58,
   "metadata": {
    "scrolled": true
   },
   "outputs": [],
   "source": [
    "##Attacker has one infanrty and defender has two or more \n",
    "n_player=3\n",
    "n_cpu=3\n",
    "def one_v_two():\n",
    "    global foreign_regions\n",
    "    global n_player\n",
    "    x=input (\"Type Roll to attack!\")\n",
    "    if x!=\"Roll\":\n",
    "        print(\"ERROR: You must type 'Roll'\")\n",
    "    attacker_roll=[]\n",
    "    defender_roll=[]\n",
    "    while len(attacker_roll)<1:\n",
    "        attacker_roll.append(random.randint(1,6))\n",
    "\n",
    "    while len(defender_roll)<2:\n",
    "        defender_roll.append(random.randint(1,6))\n",
    "\n",
    "    attacker_roll.sort(reverse=True)\n",
    "    defender_roll.sort(reverse=True)\n",
    "    if x==\"Roll\":\n",
    "        print (\"You got \" + str(attacker_roll[0])+\"!\")\n",
    "        print (\"Your opponent got \" + str(defender_roll[0])+ \" and \"+str(defender_roll[1])+ \"!\")\n",
    "    results=[]\n",
    "    if defender_roll[0]>=attacker_roll[0]:\n",
    "        n_player=n_player-1\n",
    "        print(\"You've lost the battle and the war!\")\n",
    "    if defender_roll[0]<attacker_roll[0]:\n",
    "        foreign_regions=foreign_regions-1\n",
    "        print(\"You've won the battle and captured the region!\")\n",
    "    print(\"You have \" + str(n_player) + \" infantry left. \"+ str(foreign_regions[c]) + \" infantry remain garrisoned in \" + c)"
   ]
  },
  {
   "cell_type": "code",
   "execution_count": 57,
   "metadata": {
    "scrolled": true
   },
   "outputs": [],
   "source": [
    "##Attacker has one infanrty and defender has one \n",
    "def one_v_one():\n",
    "    global foreign_regions\n",
    "    global n_player\n",
    "    x=input (\"Type Roll to attack!\")\n",
    "    if x!=\"Roll\":\n",
    "        print(\"ERROR: You must type 'Roll'\")\n",
    "    attacker_roll=[]\n",
    "    defender_roll=[]\n",
    "    while len(attacker_roll)<1:\n",
    "        attacker_roll.append(random.randint(1,6))\n",
    "\n",
    "    while len(defender_roll)<1:\n",
    "        defender_roll.append(random.randint(1,6))\n",
    "\n",
    "    attacker_roll.sort(reverse=True)\n",
    "    defender_roll.sort(reverse=True)\n",
    "    if x==\"Roll\":\n",
    "        print (\"You got \" + str(attacker_roll[0])+\"!\")\n",
    "        print (\"Your opponent got \" + str(defender_roll[0])+ \"!\")\n",
    "    results=[]\n",
    "    if defender_roll[0]>=attacker_roll[0]:\n",
    "        n_player=n_player-1\n",
    "        print(\"You've lost the battle and the war!\")\n",
    "    if defender_roll[0]<attacker_roll[0]:\n",
    "        foreign_regions=foreign_regions-1\n",
    "        print(\"You've won the battle\")\n",
    "    print(\"You have \" + str(n_player) + \" infantry left. \"+ str(foreign_regions[c]) + \" infantry remain garrisoned in \" + c)"
   ]
  },
  {
   "cell_type": "code",
   "execution_count": null,
   "metadata": {
    "scrolled": true
   },
   "outputs": [],
   "source": [
    "def battle():\n",
    "    global foreign_regions\n",
    "    global n_player\n",
    "\n",
    "    if n_player >=3 and foreign_regions[c] >=2:\n",
    "        three_v_two()\n",
    "    if n_player >=3 and foreign_regions[c] ==1:\n",
    "        three_v_one()\n",
    "    if n_player ==2 and foreign_regions[c] >=2:\n",
    "        two_v_two()\n",
    "    if n_player ==2 and foreign_regions[c] ==1:\n",
    "        two_v_one()\n",
    "    if n_player ==1 and foreign_regions[c] >=2:\n",
    "        one_v_two\n",
    "    if n_player ==1 and foreign_regions[c] ==1:\n",
    "        one_v_one()\n",
    "    if foreign_regions[c]==0:\n",
    "        print(\"You've captured \"+ c)\n",
    "        empire.append(c)\n",
    "        print(\"You currently hold\"+str(set(empire)))\n",
    "        if c==\"Anatolia\":\n",
    "            print(\"In May 334 BC, Alexander crossed the Dardanelles into Asia Minor, then a part of the Persian Empire. In northwestern Anatolia, near the site of Troy, his army confronted and defeated a combined force of Persian vassals and Greek Mercenaries. The battle of Granicus River marked Alexander’s first major victory against the Persian empire and cleared the way for his advance into Asia.\")\n",
    "    while foreign_regions[c]!=0 and len(empire)<9:\n",
    "        battle()\n",
    "    if foreign_regions[c]==0 and len(empire)<9:\n",
    "        choose_conquest()\n",
    "    "
   ]
  },
  {
   "cell_type": "code",
   "execution_count": null,
   "metadata": {},
   "outputs": [],
   "source": [
    "def choose_conquest():\n",
    "    global n_player\n",
    "    global c\n",
    "    if len(empire)>=9:\n",
    "        print(\"Alexander wept, for there were no more wolrds left to conquer. You have won!\")\n",
    "    if len(empire)<9:\n",
    "        c=input (\"Which region will you conquer: Anatolia, Syria, Phoenicia, Judea, Gaza, Egypt, Mesopotamia, Persia or Bactria?\")\n",
    "        if c=='Anatolia' or c=='Syria' or c=='Phoenicia' or c=='Judea' or c=='Gaza' or c=='Egypt' or c=='Mesopotamia' or c=='Persia' or c=='Bactria':\n",
    "            print(\"You are invading \" +c+ \"!\")\n",
    "            print(\"There are \"+str(foreign_regions[c])+\" divisions garrisoned in \"+c)\n",
    "        battle()"
   ]
  },
  {
   "cell_type": "markdown",
   "metadata": {},
   "source": [
    "## now we define the infantry per region"
   ]
  },
  {
   "cell_type": "markdown",
   "metadata": {},
   "source": [
    "# The game itself\n"
   ]
  },
  {
   "cell_type": "code",
   "execution_count": 149,
   "metadata": {},
   "outputs": [],
   "source": [
    "def launch_game():\n",
    "    import random\n",
    "    global n_player\n",
    "    global empire\n",
    "    global foreign_regions\n",
    "    n_player=27\n",
    "    empire=[]\n",
    "    foreign_regions={\"Anatolia\":3, \"Syria\":3, \"Phoenicia\":3, \"Judea\":3, \"Gaza\":3, \"Egypt\":3, \"Mesopotamia\":3, \"Persia\":3, \"Bactria\":3}"
   ]
  },
  {
   "cell_type": "code",
   "execution_count": 147,
   "metadata": {},
   "outputs": [
    {
     "ename": "KeyboardInterrupt",
     "evalue": "Interrupted by user",
     "output_type": "error",
     "traceback": [
      "\u001b[1;31m---------------------------------------------------------------------------\u001b[0m",
      "\u001b[1;31mKeyboardInterrupt\u001b[0m                         Traceback (most recent call last)",
      "\u001b[1;32m<ipython-input-147-f1713290dd10>\u001b[0m in \u001b[0;36m<module>\u001b[1;34m\u001b[0m\n\u001b[1;32m----> 1\u001b[1;33m \u001b[0mchoose_conquest\u001b[0m\u001b[1;33m(\u001b[0m\u001b[1;33m)\u001b[0m\u001b[1;33m\u001b[0m\u001b[1;33m\u001b[0m\u001b[0m\n\u001b[0m",
      "\u001b[1;32m<ipython-input-142-1f72b7769858>\u001b[0m in \u001b[0;36mchoose_conquest\u001b[1;34m()\u001b[0m\n\u001b[0;32m      5\u001b[0m         \u001b[0mprint\u001b[0m\u001b[1;33m(\u001b[0m\u001b[1;34m\"Alexander wept, for there were no more wolrds left to conquer. You have won!\"\u001b[0m\u001b[1;33m)\u001b[0m\u001b[1;33m\u001b[0m\u001b[1;33m\u001b[0m\u001b[0m\n\u001b[0;32m      6\u001b[0m     \u001b[1;32mif\u001b[0m \u001b[0mlen\u001b[0m\u001b[1;33m(\u001b[0m\u001b[0mempire\u001b[0m\u001b[1;33m)\u001b[0m\u001b[1;33m<\u001b[0m\u001b[1;36m9\u001b[0m\u001b[1;33m:\u001b[0m\u001b[1;33m\u001b[0m\u001b[1;33m\u001b[0m\u001b[0m\n\u001b[1;32m----> 7\u001b[1;33m         \u001b[0mc\u001b[0m\u001b[1;33m=\u001b[0m\u001b[0minput\u001b[0m \u001b[1;33m(\u001b[0m\u001b[1;34m\"Which region will you conquer: Anatolia, Syria, Phoenicia, Judea, Gaza, Egypt, Mesopotamia, Persia or Bactria?\"\u001b[0m\u001b[1;33m)\u001b[0m\u001b[1;33m\u001b[0m\u001b[1;33m\u001b[0m\u001b[0m\n\u001b[0m\u001b[0;32m      8\u001b[0m         \u001b[1;32mif\u001b[0m \u001b[0mc\u001b[0m\u001b[1;33m==\u001b[0m\u001b[1;34m'Anatolia'\u001b[0m \u001b[1;32mor\u001b[0m \u001b[0mc\u001b[0m\u001b[1;33m==\u001b[0m\u001b[1;34m'Syria'\u001b[0m \u001b[1;32mor\u001b[0m \u001b[0mc\u001b[0m\u001b[1;33m==\u001b[0m\u001b[1;34m'Phoenicia'\u001b[0m \u001b[1;32mor\u001b[0m \u001b[0mc\u001b[0m\u001b[1;33m==\u001b[0m\u001b[1;34m'Judea'\u001b[0m \u001b[1;32mor\u001b[0m \u001b[0mc\u001b[0m\u001b[1;33m==\u001b[0m\u001b[1;34m'Gaza'\u001b[0m \u001b[1;32mor\u001b[0m \u001b[0mc\u001b[0m\u001b[1;33m==\u001b[0m\u001b[1;34m'Egypt'\u001b[0m \u001b[1;32mor\u001b[0m \u001b[0mc\u001b[0m\u001b[1;33m==\u001b[0m\u001b[1;34m'Mesopotamia'\u001b[0m \u001b[1;32mor\u001b[0m \u001b[0mc\u001b[0m\u001b[1;33m==\u001b[0m\u001b[1;34m'Persia'\u001b[0m \u001b[1;32mor\u001b[0m \u001b[0mc\u001b[0m\u001b[1;33m==\u001b[0m\u001b[1;34m'Bactria'\u001b[0m\u001b[1;33m:\u001b[0m\u001b[1;33m\u001b[0m\u001b[1;33m\u001b[0m\u001b[0m\n\u001b[0;32m      9\u001b[0m             \u001b[0mprint\u001b[0m\u001b[1;33m(\u001b[0m\u001b[1;34m\"You are invading \"\u001b[0m \u001b[1;33m+\u001b[0m\u001b[0mc\u001b[0m\u001b[1;33m+\u001b[0m \u001b[1;34m\"!\"\u001b[0m\u001b[1;33m)\u001b[0m\u001b[1;33m\u001b[0m\u001b[1;33m\u001b[0m\u001b[0m\n",
      "\u001b[1;32m~\\anaconda3\\lib\\site-packages\\ipykernel\\kernelbase.py\u001b[0m in \u001b[0;36mraw_input\u001b[1;34m(self, prompt)\u001b[0m\n\u001b[0;32m    858\u001b[0m                 \u001b[1;34m\"raw_input was called, but this frontend does not support input requests.\"\u001b[0m\u001b[1;33m\u001b[0m\u001b[1;33m\u001b[0m\u001b[0m\n\u001b[0;32m    859\u001b[0m             )\n\u001b[1;32m--> 860\u001b[1;33m         return self._input_request(str(prompt),\n\u001b[0m\u001b[0;32m    861\u001b[0m             \u001b[0mself\u001b[0m\u001b[1;33m.\u001b[0m\u001b[0m_parent_ident\u001b[0m\u001b[1;33m,\u001b[0m\u001b[1;33m\u001b[0m\u001b[1;33m\u001b[0m\u001b[0m\n\u001b[0;32m    862\u001b[0m             \u001b[0mself\u001b[0m\u001b[1;33m.\u001b[0m\u001b[0m_parent_header\u001b[0m\u001b[1;33m,\u001b[0m\u001b[1;33m\u001b[0m\u001b[1;33m\u001b[0m\u001b[0m\n",
      "\u001b[1;32m~\\anaconda3\\lib\\site-packages\\ipykernel\\kernelbase.py\u001b[0m in \u001b[0;36m_input_request\u001b[1;34m(self, prompt, ident, parent, password)\u001b[0m\n\u001b[0;32m    902\u001b[0m             \u001b[1;32mexcept\u001b[0m \u001b[0mKeyboardInterrupt\u001b[0m\u001b[1;33m:\u001b[0m\u001b[1;33m\u001b[0m\u001b[1;33m\u001b[0m\u001b[0m\n\u001b[0;32m    903\u001b[0m                 \u001b[1;31m# re-raise KeyboardInterrupt, to truncate traceback\u001b[0m\u001b[1;33m\u001b[0m\u001b[1;33m\u001b[0m\u001b[1;33m\u001b[0m\u001b[0m\n\u001b[1;32m--> 904\u001b[1;33m                 \u001b[1;32mraise\u001b[0m \u001b[0mKeyboardInterrupt\u001b[0m\u001b[1;33m(\u001b[0m\u001b[1;34m\"Interrupted by user\"\u001b[0m\u001b[1;33m)\u001b[0m \u001b[1;32mfrom\u001b[0m \u001b[1;32mNone\u001b[0m\u001b[1;33m\u001b[0m\u001b[1;33m\u001b[0m\u001b[0m\n\u001b[0m\u001b[0;32m    905\u001b[0m             \u001b[1;32mexcept\u001b[0m \u001b[0mException\u001b[0m \u001b[1;32mas\u001b[0m \u001b[0me\u001b[0m\u001b[1;33m:\u001b[0m\u001b[1;33m\u001b[0m\u001b[1;33m\u001b[0m\u001b[0m\n\u001b[0;32m    906\u001b[0m                 \u001b[0mself\u001b[0m\u001b[1;33m.\u001b[0m\u001b[0mlog\u001b[0m\u001b[1;33m.\u001b[0m\u001b[0mwarning\u001b[0m\u001b[1;33m(\u001b[0m\u001b[1;34m\"Invalid Message:\"\u001b[0m\u001b[1;33m,\u001b[0m \u001b[0mexc_info\u001b[0m\u001b[1;33m=\u001b[0m\u001b[1;32mTrue\u001b[0m\u001b[1;33m)\u001b[0m\u001b[1;33m\u001b[0m\u001b[1;33m\u001b[0m\u001b[0m\n",
      "\u001b[1;31mKeyboardInterrupt\u001b[0m: Interrupted by user"
     ]
    }
   ],
   "source": [
    "choose_conquest()"
   ]
  }
 ],
 "metadata": {
  "kernelspec": {
   "display_name": "Python 3",
   "language": "python",
   "name": "python3"
  },
  "language_info": {
   "codemirror_mode": {
    "name": "ipython",
    "version": 3
   },
   "file_extension": ".py",
   "mimetype": "text/x-python",
   "name": "python",
   "nbconvert_exporter": "python",
   "pygments_lexer": "ipython3",
   "version": "3.8.3"
  }
 },
 "nbformat": 4,
 "nbformat_minor": 4
}
