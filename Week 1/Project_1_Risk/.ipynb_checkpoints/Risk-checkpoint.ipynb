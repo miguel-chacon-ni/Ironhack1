{
 "cells": [
  {
   "cell_type": "code",
   "execution_count": 49,
   "metadata": {},
   "outputs": [],
   "source": [
    "import random"
   ]
  },
  {
   "cell_type": "code",
   "execution_count": 11,
   "metadata": {},
   "outputs": [],
   "source": [
    "#Not sure whether this will be included. It is a dictionary containing the list of starting regions per player and the number of infantry in each.\n",
    "#Moravia wants to be in charge and is trying to take over Bohemia\n",
    "player_territories={\"Brno\":5,\"Vysocina\":5,\"Olomouc\":5,\"Moravian Silesia\":5,\"Zlin\":5}\n",
    "cpu_territories={\"Prague\":5,\"Pardubice\":5,\"Karlovy vary\":5,\"Plzen\":5,\"South Bohemia\":5,\"Liberec\":5,\"Hradec Kralove\":5,\"Usti nad Labem\":5}\n"
   ]
  },
  {
   "cell_type": "code",
   "execution_count": 19,
   "metadata": {
    "scrolled": false
   },
   "outputs": [
    {
     "name": "stdout",
     "output_type": "stream",
     "text": [
      "\n"
     ]
    }
   ],
   "source": [
    "#here we decide which region to attack\n",
    "def choose_conquest():\n",
    "    c=input (\"Which region will you conquer: Anatolia, Syria, Phoenicia, Judea, Gaza, Egypt, Mesopotamia, Persia or Bactria?\")\n",
    "    if c!='Anatolia' or c!='Syria' or c!='Phoenicia' or c!='Judea' or c!='Gaza' or c!='Egypt' or c!='Mesopotamia' or c!='Persia' or c!='Bactria':  \n",
    "        print(\"ERROR: You must pick one of the regions provided\")\n",
    "print(c)"
   ]
  },
  {
   "cell_type": "code",
   "execution_count": 77,
   "metadata": {
    "scrolled": true
   },
   "outputs": [
    {
     "name": "stdout",
     "output_type": "stream",
     "text": [
      "Type Roll to attack! Roll\n",
      "You got 6, 5, and 4!\n",
      "Your opponent got 4 and 2!\n"
     ]
    }
   ],
   "source": [
    "#This is the very base of the game\n",
    "x=input (\"Type Roll to attack! \")\n",
    "if x!=\"Roll\":\n",
    "    print(\"ERROR: You must type 'Roll'\")\n",
    "attacker_roll=[]\n",
    "defender_roll=[]\n",
    "while len(attacker_roll)<3:\n",
    "    attacker_roll.append(random.randint(1,6))\n",
    "\n",
    "while len(defender_roll)<2:\n",
    "    defender_roll.append(random.randint(1,6))\n",
    "\n",
    "attacker_roll.sort(reverse=True)\n",
    "defender_roll.sort(reverse=True)\n",
    "if x==\"Roll\":\n",
    "    print (\"You got \" + str(attacker_roll[0])+ \", \"+str(attacker_roll[1])+\", and \"+str(attacker_roll[2]) + \"!\")\n",
    "    print (\"Your opponent got \" + str(defender_roll[0])+ \" and \"+str(defender_roll[1])+ \"!\")\n"
   ]
  },
  {
   "cell_type": "code",
   "execution_count": null,
   "metadata": {},
   "outputs": [],
   "source": [
    "#Here we move on to who wins. We can later add conditionals for when less infanrtry remains\n",
    "results=[]\n",
    "if defender_roll[0]>=attacker_roll[0] and defender_roll[1]>=attacker_roll[1]:\n",
    "    print(\"You've lost both battles and are down two infantry!\")\n",
    "if defender_roll[0]<attacker_roll[0] and defender_roll[1]<attacker_roll[1]:\n",
    "    print(\"You've won both battles! Your opponent is down two infatry!\")\n",
    "if defender_roll[0]<attacker_roll[0] and defender_roll[1]>=attacker_roll[1]:\n",
    "    print(\"You've lost the first battle but won the second! You've each lost one infantry!\")\n",
    "if defender_roll[0]>=attacker_roll[0] and defender_roll[1]<attacker_roll[1]:\n",
    "    print(\"You've won the first battle but lost the second! You're each down one infantry!\")\n",
    "    "
   ]
  },
  {
   "cell_type": "markdown",
   "metadata": {},
   "source": [
    "## Next, we merge the dice-rolling and the winner code and create scenarios depending on the number of infantry the attacker and defender have"
   ]
  },
  {
   "cell_type": "code",
   "execution_count": null,
   "metadata": {},
   "outputs": [],
   "source": [
    "#Attacker has three or more infantry and defender has two or more \n",
    "def three_v_two():\n",
    "    global foreign_regions\n",
    "    global n_player\n",
    "    global c\n",
    "    x=input (\"Type Roll to attack!\")\n",
    "    if x!=\"Roll\":\n",
    "        print(\"ERROR: You must type 'Roll'\")\n",
    "    attacker_roll=[]\n",
    "    defender_roll=[]\n",
    "    while len(attacker_roll)<3:\n",
    "        attacker_roll.append(random.randint(1,6))\n",
    "\n",
    "    while len(defender_roll)<2:\n",
    "        defender_roll.append(random.randint(1,6))\n",
    "\n",
    "    attacker_roll.sort(reverse=True)\n",
    "    defender_roll.sort(reverse=True)\n",
    "    if x==\"Roll\":\n",
    "        print (\"You got \" + str(attacker_roll[0])+ \", \"+str(attacker_roll[1])+\", and \"+str(attacker_roll[2]) + \"!\")\n",
    "        print (\"Your opponent got \" + str(defender_roll[0])+ \" and \"+str(defender_roll[1])+ \"!\")\n",
    "    if defender_roll[0]>=attacker_roll[0] and defender_roll[1]>=attacker_roll[1]:\n",
    "        n_player=n_player-2\n",
    "        print(\"You've lost both battles and are down two infantry!\")\n",
    "    if defender_roll[0]<attacker_roll[0] and defender_roll[1]<attacker_roll[1]:\n",
    "        foreign_regions[c]=foreign_regions[c]-2\n",
    "        print(\"You've won both battles!\"+ c + \" down two infatry!\")\n",
    "    if defender_roll[0]<attacker_roll[0] and defender_roll[1]>=attacker_roll[1]:\n",
    "        n_player=n_player-1\n",
    "        foreign_regions[c]=foreign_regions[c]-1\n",
    "        print(\"You've lost the first battle but won the second! You've each lost one infantry!\")\n",
    "    if defender_roll[0]>=attacker_roll[0] and defender_roll[1]<attacker_roll[1]:\n",
    "        n_player=n_player-1\n",
    "        foreign_regions[c]=foreign_regions[c]-1\n",
    "        print(\"You've won the first battle but lost the second! You're each down one infantry!\")"
   ]
  },
  {
   "cell_type": "code",
   "execution_count": 136,
   "metadata": {},
   "outputs": [],
   "source": [
    "#Attacker has three or more and defender has one\n",
    "def three_v_one():\n",
    "    global foreign_regions\n",
    "    global n_player\n",
    "    x=input (\"Type Roll to attack!\")\n",
    "    if x!=\"Roll\":\n",
    "        print(\"ERROR: You must type 'Roll'\")\n",
    "    attacker_roll=[]\n",
    "    defender_roll=[]\n",
    "    while len(attacker_roll)<3:\n",
    "        attacker_roll.append(random.randint(1,6))\n",
    "\n",
    "    while len(defender_roll)<1:\n",
    "        defender_roll.append(random.randint(1,6))\n",
    "\n",
    "    attacker_roll.sort(reverse=True)\n",
    "    defender_roll.sort(reverse=True)\n",
    "    if x==\"Roll\":\n",
    "        print (\"You got \" + str(attacker_roll[0])+ \", \"+str(attacker_roll[1])+\", and \"+str(attacker_roll[2]) + \"!\")\n",
    "        print (\"Your opponent got \" + str(defender_roll[0])+ \"!\")\n",
    "        results=[]\n",
    "    if defender_roll[0]>=attacker_roll[0]:\n",
    "        n_player=n_player-1\n",
    "        print(\"You've lost the battle and are down one infantry!\")\n",
    "    if defender_roll[0]<attacker_roll[0]:\n",
    "        foreign_regions[c]=foreign_regions[c]-1\n",
    "        print(\"You've won the battle and taken the city!\")"
   ]
  },
  {
   "cell_type": "code",
   "execution_count": 217,
   "metadata": {},
   "outputs": [
    {
     "name": "stdout",
     "output_type": "stream",
     "text": [
      "You have 27 infantry left. Your opponent has 3\n"
     ]
    }
   ],
   "source": [
    "##Attacker has two infanrty and defender has two or more \n",
    "def two_v_two():\n",
    "    global foreign_regions\n",
    "    global n_player\n",
    "    x=input (\"Type Roll to attack!\")\n",
    "    if x!=\"Roll\":\n",
    "        print(\"ERROR: You must type 'Roll'\")\n",
    "    attacker_roll=[]\n",
    "    defender_roll=[]\n",
    "    while len(attacker_roll)<2:\n",
    "        attacker_roll.append(random.randint(1,6))\n",
    "\n",
    "    while len(defender_roll)<2:\n",
    "        defender_roll.append(random.randint(1,6))\n",
    "\n",
    "    attacker_roll.sort(reverse=True)\n",
    "    defender_roll.sort(reverse=True)\n",
    "    if x==\"Roll\":\n",
    "        print (\"You got \" + str(attacker_roll[0])+ \", \"+str(attacker_roll[1])+ \"!\")\n",
    "        print (\"Your opponent got \" + str(defender_roll[0])+ \" and \"+str(defender_roll[1])+ \"!\")\n",
    "    results=[]\n",
    "    if defender_roll[0]>=attacker_roll[0] and defender_roll[1]>=attacker_roll[1]:\n",
    "        n_player=n_player-2\n",
    "        print(\"You've lost both battles and have lost the war!\")\n",
    "    if defender_roll[0]<attacker_roll[0] and defender_roll[1]<attacker_roll[1]:\n",
    "        foreign_regions=foreign_regions-2\n",
    "        print(\"You've won both battles! Your opponent is down two infatry!\")\n",
    "    if defender_roll[0]<attacker_roll[0] and defender_roll[1]>=attacker_roll[1]:\n",
    "        n_player=n_player-1\n",
    "        foreign_regions=foreign_regions-1\n",
    "        print(\"You've lost the first battle but won the second! You've each lost one infantry!\")\n",
    "    if defender_roll[0]>=attacker_roll[0] and defender_roll[1]<attacker_roll[1]:\n",
    "        n_player=n_player-1\n",
    "        foreign_regions=foreign_regions-1\n",
    "        print(\"You've won the first battle but lost the second! You're each down one infantry!\")\n",
    "\n",
    "\n",
    "print(\"You have \" + str(n_player) + \" infantry left. Your opponent has \" + str(n_cpu))"
   ]
  },
  {
   "cell_type": "code",
   "execution_count": 91,
   "metadata": {},
   "outputs": [
    {
     "name": "stdout",
     "output_type": "stream",
     "text": [
      "You have 3 infantry left. Your opponent has 3\n"
     ]
    }
   ],
   "source": [
    "#Attacker has two and defender has one\n",
    "def two_v_one():\n",
    "    global foreign_regions\n",
    "    global n_player    \n",
    "    x=input (\"Type Roll to attack!\")\n",
    "    if x!=\"Roll\":\n",
    "        print(\"ERROR: You must type 'Roll'\")\n",
    "    attacker_roll=[]\n",
    "    defender_roll=[]\n",
    "    while len(attacker_roll)<2:\n",
    "        attacker_roll.append(random.randint(1,6))\n",
    "\n",
    "    while len(defender_roll)<1:\n",
    "        defender_roll.append(random.randint(1,6))\n",
    "\n",
    "    attacker_roll.sort(reverse=True)\n",
    "    defender_roll.sort(reverse=True)\n",
    "    if x==\"Roll\":\n",
    "        print (\"You got \" + str(attacker_roll[0])+ \", \"+str(attacker_roll[1])+ \"!\")\n",
    "        print (\"Your opponent got \" + str(defender_roll[0])+ \"!\")\n",
    "        results=[]\n",
    "    if defender_roll[0]>=attacker_roll[0]:\n",
    "        n_player=n_player-1\n",
    "        print(\"You've lost the battle and are down one infantry!\")\n",
    "    if defender_roll[0]<attacker_roll[0]:\n",
    "        foreign_regions=foreign_regions-1\n",
    "        print(\"You've won the battle and taken the city!\")\n",
    "print(\"You have \" + str(n_player) + \" infantry left. Your opponent has \" + str(n_cpu))"
   ]
  },
  {
   "cell_type": "code",
   "execution_count": 90,
   "metadata": {
    "scrolled": true
   },
   "outputs": [],
   "source": [
    "##Attacker has one infanrty and defender has two or more \n",
    "n_player=3\n",
    "n_cpu=3\n",
    "def one_v_two():\n",
    "    global foreign_regions\n",
    "    global n_player\n",
    "    x=input (\"Type Roll to attack!\")\n",
    "    if x!=\"Roll\":\n",
    "        print(\"ERROR: You must type 'Roll'\")\n",
    "    attacker_roll=[]\n",
    "    defender_roll=[]\n",
    "    while len(attacker_roll)<1:\n",
    "        attacker_roll.append(random.randint(1,6))\n",
    "\n",
    "    while len(defender_roll)<2:\n",
    "        defender_roll.append(random.randint(1,6))\n",
    "\n",
    "    attacker_roll.sort(reverse=True)\n",
    "    defender_roll.sort(reverse=True)\n",
    "    if x==\"Roll\":\n",
    "        print (\"You got \" + str(attacker_roll[0])+\"!\")\n",
    "        print (\"Your opponent got \" + str(defender_roll[0])+ \" and \"+str(defender_roll[1])+ \"!\")\n",
    "    results=[]\n",
    "    if defender_roll[0]>=attacker_roll[0]:\n",
    "        n_player=n_player-1\n",
    "        print(\"You've lost the battle and the war!\")\n",
    "    if defender_roll[0]<attacker_roll[0]:\n",
    "        foreign_regions=foreign_regions-1\n",
    "        print(\"You've won the battle and captured the region!\")"
   ]
  },
  {
   "cell_type": "code",
   "execution_count": 218,
   "metadata": {
    "scrolled": true
   },
   "outputs": [],
   "source": [
    "##Attacker has one infanrty and defender has one \n",
    "def one_v_one():\n",
    "    global foreign_regions\n",
    "    global n_player\n",
    "    x=input (\"Type Roll to attack!\")\n",
    "    if x!=\"Roll\":\n",
    "        print(\"ERROR: You must type 'Roll'\")\n",
    "    attacker_roll=[]\n",
    "    defender_roll=[]\n",
    "    while len(attacker_roll)<1:\n",
    "        attacker_roll.append(random.randint(1,6))\n",
    "\n",
    "    while len(defender_roll)<1:\n",
    "        defender_roll.append(random.randint(1,6))\n",
    "\n",
    "    attacker_roll.sort(reverse=True)\n",
    "    defender_roll.sort(reverse=True)\n",
    "    if x==\"Roll\":\n",
    "        print (\"You got \" + str(attacker_roll[0])+\"!\")\n",
    "        print (\"Your opponent got \" + str(defender_roll[0])+ \"!\")\n",
    "    results=[]\n",
    "    if defender_roll[0]>=attacker_roll[0]:\n",
    "        n_player=n_player-1\n",
    "        print(\"You've lost the battle and the war!\")\n",
    "    if defender_roll[0]<attacker_roll[0]:\n",
    "        foreign_regions=foreign_regions-1\n",
    "        print(\"You've won the battle\")"
   ]
  },
  {
   "cell_type": "code",
   "execution_count": 61,
   "metadata": {},
   "outputs": [],
   "source": [
    "foreign_regions={\"Anatolia\":5, \"Syria\":5, \"Phoenicia\":5, \"Judea\":5, \"Gaza\":5, \"Egypt\":5, \"Mesopotamia\":5, \"Persia\":5, \"Bactria\":5}"
   ]
  },
  {
   "cell_type": "code",
   "execution_count": 220,
   "metadata": {
    "scrolled": true
   },
   "outputs": [],
   "source": [
    "def battle():\n",
    "    global foreign_regions\n",
    "    global n_player\n",
    "\n",
    "    if n_player >=3 and foreign_regions[c] >=2:\n",
    "        three_v_two()\n",
    "    if n_player >=3 and foreign_regions[c] ==1:\n",
    "        three_v_one()\n",
    "    if n_player ==2 and foreign_regions[c] >=2:\n",
    "        two_v_two()\n",
    "    if n_player ==2 and foreign_regions[c] ==1:\n",
    "        two_v_one()\n",
    "    if n_player ==1 and foreign_regions[c] >=2:\n",
    "        one_v_two\n",
    "    if n_player ==1 and foreign_regions[c] ==1:\n",
    "        one_v_one()\n",
    "    print(\"You have \" + str(n_player) + \" divisions left. \"+ str(foreign_regions[c]) + \" divisions remain garrisoned in \" + c)\n",
    "    if foreign_regions[c]==0:\n",
    "        print(\"You've captured \"+ c)\n",
    "    "
   ]
  },
  {
   "cell_type": "code",
   "execution_count": 193,
   "metadata": {},
   "outputs": [],
   "source": [
    "###ignore. Here for versioning purposes###\n",
    "def choose_conquest():\n",
    "    global n_player\n",
    "    c=input (\"Which region will you conquer: Anatolia, Syria, Phoenicia, Judea, Gaza, Egypt, Mesopotamia, Persia or Bactria?\")\n",
    "    if c!='Anatolia' or c!='Syria' or c!='Phoenicia' or c!='Judea' or c!='Gaza' or c!='Egypt' or c!='Mesopotamia' or c!='Persia' or c!='Bactria':  \n",
    "        print(\"ERROR: You must pick one of the regions provided\")\n",
    "    if c=='Anatolia' or c=='Syria' or c=='Phoenicia' or c=='Judea' or c=='Gaza' or c=='Egypt' or c=='Mesopotamia' or c=='Persia' or c=='Bactria':\n",
    "        print(\"You are invading \" +c+ \"!\")\n",
    "    battle()"
   ]
  },
  {
   "cell_type": "code",
   "execution_count": 221,
   "metadata": {},
   "outputs": [],
   "source": [
    "def choose_conquest():\n",
    "    global n_player\n",
    "    global c\n",
    "    c=input (\"Which region will you conquer: Anatolia, Syria, Phoenicia, Judea, Gaza, Egypt, Mesopotamia, Persia or Bactria?\")\n",
    "    if c=='Anatolia' or c=='Syria' or c=='Phoenicia' or c=='Judea' or c=='Gaza' or c=='Egypt' or c=='Mesopotamia' or c=='Persia' or c=='Bactria':\n",
    "        print(\"You are invading \" +c+ \"!\")\n",
    "    battle()"
   ]
  },
  {
   "cell_type": "markdown",
   "metadata": {},
   "source": [
    "## now we define the infantry per region"
   ]
  },
  {
   "cell_type": "code",
   "execution_count": 213,
   "metadata": {},
   "outputs": [],
   "source": [
    "# The game in order below\n",
    "n_player=27\n",
    "foreign_regions={\"Anatolia\":3, \"Syria\":3, \"Phoenicia\":3, \"Judea\":3, \"Gaza\":3, \"Egypt\":3, \"Mesopotamia\":3, \"Persia\":3, \"Bactria\":3}"
   ]
  },
  {
   "cell_type": "code",
   "execution_count": 222,
   "metadata": {},
   "outputs": [
    {
     "name": "stdout",
     "output_type": "stream",
     "text": [
      "Which region will you conquer: Anatolia, Syria, Phoenicia, Judea, Gaza, Egypt, Mesopotamia, Persia or Bactria?Anatolia\n",
      "You are invading Anatolia!\n",
      "You have 27 divisions left. 0 divisions remain garrisoned in Anatolia\n",
      "You've captured Anatolia\n"
     ]
    }
   ],
   "source": [
    "choose_conquest()"
   ]
  },
  {
   "cell_type": "code",
   "execution_count": 181,
   "metadata": {},
   "outputs": [
    {
     "name": "stdout",
     "output_type": "stream",
     "text": [
      "{'Anatolia': 0, 'Syria': 3, 'Phoenicia': 0, 'Judea': 3, 'Gaza': 3, 'Egypt': 3, 'Mesopotamia': 1, 'Persia': 0, 'Bactria': 0}\n"
     ]
    },
    {
     "data": {
      "text/plain": [
       "0"
      ]
     },
     "execution_count": 181,
     "metadata": {},
     "output_type": "execute_result"
    }
   ],
   "source": [
    "print(foreign_regions)\n",
    "foreign_regions[c]"
   ]
  }
 ],
 "metadata": {
  "kernelspec": {
   "display_name": "Python 3",
   "language": "python",
   "name": "python3"
  },
  "language_info": {
   "codemirror_mode": {
    "name": "ipython",
    "version": 3
   },
   "file_extension": ".py",
   "mimetype": "text/x-python",
   "name": "python",
   "nbconvert_exporter": "python",
   "pygments_lexer": "ipython3",
   "version": "3.8.3"
  }
 },
 "nbformat": 4,
 "nbformat_minor": 4
}
