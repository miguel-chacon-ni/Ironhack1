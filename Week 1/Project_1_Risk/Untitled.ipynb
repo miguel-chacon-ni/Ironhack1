{
 "cells": [
  {
   "cell_type": "markdown",
   "metadata": {},
   "source": [
    "# Alexander"
   ]
  },
  {
   "cell_type": "code",
   "execution_count": 2,
   "metadata": {
    "scrolled": false
   },
   "outputs": [
    {
     "ename": "SyntaxError",
     "evalue": "invalid syntax (<ipython-input-2-3d730bfa3ce2>, line 2)",
     "output_type": "error",
     "traceback": [
      "\u001b[1;36m  File \u001b[1;32m\"<ipython-input-2-3d730bfa3ce2>\"\u001b[1;36m, line \u001b[1;32m2\u001b[0m\n\u001b[1;33m    _,,)\\.~,,._\u001b[0m\n\u001b[1;37m      ^\u001b[0m\n\u001b[1;31mSyntaxError\u001b[0m\u001b[1;31m:\u001b[0m invalid syntax\n"
     ]
    }
   ],
   "source": [
    "#   \n",
    " ,,)^.~,,._\n",
    "(()`  ``)\\))),,_\n",
    " |     \\ ''((\\)))),,_          ____\n",
    " |6`   |   ''((\\())) \"-.____.-\"    `-.-,\n",
    " |    .'\\    ''))))'                  \\)))\n",
    " |   |   `.     ''                     ((((\n",
    " \\, _)     \\/                          |))))\n",
    "  `'        |                          (((((\n",
    "            \\                  |       ))))))\n",
    "             `|    |           ,\\     /((((((\n",
    "              |   / `-.______.<  \\   |  )))))\n",
    "              |   |  /         `. \\  \\  ((((\n",
    "              |  / \\ |           `.\\  | (((\n",
    "              \\  | | |             )| |  ))\n",
    "               | | | |             || |  '\n",
    "\n",
    "  "
   ]
  },
  {
   "cell_type": "code",
   "execution_count": 59,
   "metadata": {
    "scrolled": true
   },
   "outputs": [],
   "source": [
    "import Risk"
   ]
  },
  {
   "cell_type": "code",
   "execution_count": 62,
   "metadata": {},
   "outputs": [
    {
     "ename": "NameError",
     "evalue": "name 'empire' is not defined",
     "output_type": "error",
     "traceback": [
      "\u001b[1;31m---------------------------------------------------------------------------\u001b[0m",
      "\u001b[1;31mNameError\u001b[0m                                 Traceback (most recent call last)",
      "\u001b[1;32m<ipython-input-62-95d17b582655>\u001b[0m in \u001b[0;36m<module>\u001b[1;34m\u001b[0m\n\u001b[1;32m----> 1\u001b[1;33m \u001b[0mRisk\u001b[0m\u001b[1;33m.\u001b[0m\u001b[0mchoose_conquest\u001b[0m\u001b[1;33m(\u001b[0m\u001b[1;33m)\u001b[0m\u001b[1;33m\u001b[0m\u001b[1;33m\u001b[0m\u001b[0m\n\u001b[0m",
      "\u001b[1;32m~\\Ironhack\\Ironhack1\\Week 1\\Project_1_Risk\\Risk.py\u001b[0m in \u001b[0;36mchoose_conquest\u001b[1;34m()\u001b[0m\n\u001b[0;32m    256\u001b[0m         \u001b[0mchoose_conquest\u001b[0m\u001b[1;33m(\u001b[0m\u001b[1;33m)\u001b[0m\u001b[1;33m\u001b[0m\u001b[1;33m\u001b[0m\u001b[0m\n\u001b[0;32m    257\u001b[0m \u001b[1;33m\u001b[0m\u001b[0m\n\u001b[1;32m--> 258\u001b[1;33m \u001b[1;33m\u001b[0m\u001b[0m\n\u001b[0m\u001b[0;32m    259\u001b[0m \u001b[1;33m\u001b[0m\u001b[0m\n\u001b[0;32m    260\u001b[0m \u001b[1;31m# In[ ]:\u001b[0m\u001b[1;33m\u001b[0m\u001b[1;33m\u001b[0m\u001b[1;33m\u001b[0m\u001b[0m\n",
      "\u001b[1;31mNameError\u001b[0m: name 'empire' is not defined"
     ]
    }
   ],
   "source": [
    "Risk.choose_conquest()"
   ]
  }
 ],
 "metadata": {
  "kernelspec": {
   "display_name": "Python 3",
   "language": "python",
   "name": "python3"
  },
  "language_info": {
   "codemirror_mode": {
    "name": "ipython",
    "version": 3
   },
   "file_extension": ".py",
   "mimetype": "text/x-python",
   "name": "python",
   "nbconvert_exporter": "python",
   "pygments_lexer": "ipython3",
   "version": "3.8.3"
  }
 },
 "nbformat": 4,
 "nbformat_minor": 4
}
