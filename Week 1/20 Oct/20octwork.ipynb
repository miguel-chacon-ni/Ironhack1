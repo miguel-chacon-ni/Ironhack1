{
 "cells": [
  {
   "cell_type": "markdown",
   "metadata": {},
   "source": [
    "num_list = [34, 12, 93, 783, 330, 896, 1, 55]\n",
    "total = 0\n",
    "for i in num_list:\n",
    "    total += i\n",
    "    print (total)\n"
   ]
  },
  {
   "cell_type": "markdown",
   "metadata": {},
   "source": [
    "# Names"
   ]
  },
  {
   "cell_type": "code",
   "execution_count": 58,
   "metadata": {},
   "outputs": [],
   "source": [
    "students = [\"Aine_Gates\",\n",
    "            \"Àlex_Gómez\",\n",
    "            \"André_SantaClara\",\n",
    "            \"Anne_Fonte\",\n",
    "            \"Arnau_Angerri\",\n",
    "            \"Carla_Feriche\",\n",
    "            \"Daria_Gavrilova\",\n",
    "            \"Dirk_Gruhne\",\n",
    "            \"Erik_Termes\",\n",
    "            \"Filipe_Santos\",\n",
    "            \"Hugo_Mellado\",\n",
    "            \"Jorge_Gonzalez\",\n",
    "            \"Marc_Sarrau\",\n",
    "            \"Maria_González\",\n",
    "            \"Miguel_Chacon\",\n",
    "            \"Miguel_Simón\",\n",
    "            \"Nick_Deitmers\",\n",
    "            \"Oscar_Tomás\",\n",
    "            \"Pau_Sancho\",\n",
    "            \"Pol_Serramalera\",\n",
    "            \"Raúl_Castrillo\",\n",
    "            \"Réka_Varga\",\n",
    "            \"Sara_Peña\",\n",
    "            \"Sergio_Monge\",\n",
    "            \"Toni_Espadas\",\n",
    "            \"Víctor_López\",\n",
    "            \"Yidi_Chi\"]"
   ]
  },
  {
   "cell_type": "code",
   "execution_count": 56,
   "metadata": {
    "scrolled": true
   },
   "outputs": [],
   "source": [
    "student_firstname=[]\n",
    "student_lastname= []\n",
    "for student in students:\n",
    "    student_firstname.append(student.split(\"_\")[0])\n",
    "    student_lastname.append(student.split(\"_\")[1])"
   ]
  },
  {
   "cell_type": "code",
   "execution_count": 54,
   "metadata": {
    "scrolled": true
   },
   "outputs": [
    {
     "data": {
      "text/plain": [
       "[['Aine', 'Gates'],\n",
       " ['Àlex', 'Gómez'],\n",
       " ['André', 'SantaClara'],\n",
       " ['Anne', 'Fonte'],\n",
       " ['Arnau', 'Angerri'],\n",
       " ['Carla', 'Feriche'],\n",
       " ['Daria', 'Gavrilova'],\n",
       " ['Dirk', 'Gruhne'],\n",
       " ['Erik', 'Termes'],\n",
       " ['Filipe', 'Santos'],\n",
       " ['Hugo', 'Mellado'],\n",
       " ['Jorge', 'Gonzalez'],\n",
       " ['Marc', 'Sarrau'],\n",
       " ['Maria', 'González'],\n",
       " ['Miguel', 'Chacon'],\n",
       " ['Miguel', 'Simón'],\n",
       " ['Nick', 'Deitmers'],\n",
       " ['Oscar', 'Tomás'],\n",
       " ['Pau', 'Sancho'],\n",
       " ['Pol', 'Serramalera'],\n",
       " ['Raúl', 'Castrillo'],\n",
       " ['Réka', 'Varga'],\n",
       " ['Sara', 'Peña'],\n",
       " ['Sergio', 'Monge'],\n",
       " ['Toni', 'Espadas'],\n",
       " ['Víctor', 'López'],\n",
       " ['Yidi', 'Chi']]"
      ]
     },
     "execution_count": 54,
     "metadata": {},
     "output_type": "execute_result"
    }
   ],
   "source": [
    "student_fullname=[]\n",
    "for student in students:\n",
    "    student_fullname.append(student.split(\"_\"))\n",
    "student_fullname"
   ]
  },
  {
   "cell_type": "code",
   "execution_count": 55,
   "metadata": {
    "scrolled": false
   },
   "outputs": [
    {
     "name": "stdout",
     "output_type": "stream",
     "text": [
      "Input First NameMiguel\n",
      "their last name is Chacon\n",
      "their last name is Simón\n"
     ]
    }
   ],
   "source": [
    "student_fullname=[]\n",
    "for student in students:\n",
    "    student_fullname.append(student.split(\"_\"))\n",
    "x=input(\"Input First Name\")\n",
    "for person in student_fullname:\n",
    "    if x==person[0]:\n",
    "        print(\"their last name is\",person[1])"
   ]
  },
  {
   "cell_type": "markdown",
   "metadata": {},
   "source": [
    "# Probability"
   ]
  },
  {
   "cell_type": "code",
   "execution_count": 204,
   "metadata": {
    "scrolled": true
   },
   "outputs": [
    {
     "name": "stdout",
     "output_type": "stream",
     "text": [
      "[83, 51, 80, 40, 93, 55, 18, 92, 82, 40, 24, 55, 9, 28, 19, 42, 4, 25, 21, 12, 76, 34, 74, 59, 36, 1, 77, 70, 43, 66, 26, 79, 11, 35, 91, 36, 98, 55, 70, 57, 91, 74, 85, 93, 24, 38, 26, 86, 76, 28, 41, 85, 54, 43, 69, 13, 98, 11, 3, 33, 63, 80, 59, 57, 89, 28, 7, 89, 87, 46, 63, 18, 34, 84, 67, 11, 63, 80, 92, 14, 62, 74, 97, 37, 9, 95, 71, 82, 20, 86, 79, 29, 79, 28, 26, 36, 97, 83, 66, 40]\n",
      "59\n"
     ]
    }
   ],
   "source": [
    "import random\n",
    "import statistics\n",
    "random_numbers=[]\n",
    "unique_numbers=[]\n",
    "while len(random_numbers)<100:\n",
    "    random_numbers.append(random.randint(0,100))\n",
    "print(random_numbers)\n",
    "print(len(set(random_numbers)))"
   ]
  },
  {
   "cell_type": "code",
   "execution_count": 40,
   "metadata": {},
   "outputs": [
    {
     "name": "stdout",
     "output_type": "stream",
     "text": [
      "63.6761\n"
     ]
    }
   ],
   "source": [
    "import random\n",
    "import statistics\n",
    "random_numbers=[]\n",
    "unique_numbers=[]\n",
    "while len(unique_numbers)<10000:\n",
    "    random_numbers=[]\n",
    "    for x in range(0,100):\n",
    "        random_numbers.append(random.randint(0,100))\n",
    "    unique_numbers.append(len(set(random_numbers)))\n",
    "print(statistics.mean(unique_numbers))"
   ]
  },
  {
   "cell_type": "code",
   "execution_count": 1,
   "metadata": {},
   "outputs": [
    {
     "name": "stdout",
     "output_type": "stream",
     "text": [
      "63.6747\n"
     ]
    }
   ],
   "source": [
    "import random\n",
    "import statistics\n",
    "random_numbers=[]\n",
    "unique_numbers=[]\n",
    "for i in range(0,10000):\n",
    "    random_numbers=[]\n",
    "    for x in range(0,100):\n",
    "        random_numbers.append(random.randint(0,100))\n",
    "    unique_numbers.append(len(set(random_numbers)))\n",
    "print(statistics.mean(unique_numbers))"
   ]
  },
  {
   "cell_type": "markdown",
   "metadata": {},
   "source": [
    "# Dictionaries"
   ]
  },
  {
   "cell_type": "code",
   "execution_count": 2,
   "metadata": {},
   "outputs": [],
   "source": [
    "teachers_dict = {\n",
    "    \"Guillem\":{\n",
    "        \"age\":30,\n",
    "        \"role\":\"LT\",\n",
    "        \"city_born\":\"Barcelona\"\n",
    "    },\n",
    "    \"Mar\":{\n",
    "        \"age\":22,\n",
    "        \"role\":\"TA\",\n",
    "        \"city_born\":\"Murcia\"\n",
    "    },\n",
    "    \"Javi\":{\n",
    "        \"age\":21,\n",
    "        \"role\":\"TA\",\n",
    "        \"city_born\":\"Donosti\"\n",
    "    },\n",
    "    \"Pol\":{\n",
    "        \"age\":31,\n",
    "        \"role\":\"TA\",\n",
    "        \"city_born\":\"Barcelona\"\n",
    "    }\n",
    "}"
   ]
  },
  {
   "cell_type": "code",
   "execution_count": 54,
   "metadata": {
    "scrolled": true
   },
   "outputs": [
    {
     "name": "stdout",
     "output_type": "stream",
     "text": [
      "{'age': 30, 'role': 'LT', 'city_born': 'Barcelona'}\n",
      "{'age': 31, 'role': 'TA', 'city_born': 'Barcelona'}\n"
     ]
    }
   ],
   "source": [
    "ages=[]\n",
    "for car in teachers_dict:\n",
    "    if teachers_dict[car][\"city_born\"] == \"Barcelona\":\n",
    "        print(teachers_dict[car])"
   ]
  },
  {
   "cell_type": "code",
   "execution_count": 16,
   "metadata": {},
   "outputs": [],
   "source": [
    "for teachers in teachers_dict:\n",
    "    if [\"city_born\"]==\"Barcelona\":\n",
    "        print(\"age\")"
   ]
  },
  {
   "cell_type": "code",
   "execution_count": 26,
   "metadata": {},
   "outputs": [
    {
     "name": "stdout",
     "output_type": "stream",
     "text": [
      "G\n",
      "M\n",
      "J\n",
      "P\n"
     ]
    }
   ],
   "source": [
    "for teacher in teachers_dict:\n",
    "    print(teacher[0])"
   ]
  }
 ],
 "metadata": {
  "kernelspec": {
   "display_name": "Python 3",
   "language": "python",
   "name": "python3"
  },
  "language_info": {
   "codemirror_mode": {
    "name": "ipython",
    "version": 3
   },
   "file_extension": ".py",
   "mimetype": "text/x-python",
   "name": "python",
   "nbconvert_exporter": "python",
   "pygments_lexer": "ipython3",
   "version": "3.8.3"
  }
 },
 "nbformat": 4,
 "nbformat_minor": 4
}
