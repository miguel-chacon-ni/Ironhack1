{
 "cells": [
  {
   "cell_type": "markdown",
   "metadata": {},
   "source": [
    "# String operations"
   ]
  },
  {
   "cell_type": "markdown",
   "metadata": {},
   "source": [
    "Clean students' names"
   ]
  },
  {
   "cell_type": "code",
   "execution_count": 7,
   "metadata": {},
   "outputs": [],
   "source": [
    "students = [\"Aine_Gates\",\n",
    "            \"Àlex_Gómez\",\n",
    "            \"André_SantaClara\",\n",
    "            \"Anne_Fonte\",\n",
    "            \"Arnau_Angerri\",\n",
    "            \"Carla_Feriche\",\n",
    "            \"Daria_Gavrilova\",\n",
    "            \"Dirk_Gruhne\",\n",
    "            \"Erik_Termes\",\n",
    "            \"Filipe_Santos\",\n",
    "            \"Hugo_Mellado\",\n",
    "            \"Jorge_Gonzalez\",\n",
    "            \"Marc_Sarrau\",\n",
    "            \"Maria_González\",\n",
    "            \"Miguel_Chacon\",\n",
    "            \"Miguel_Simón\",\n",
    "            \"Nick_Deitmers\",\n",
    "            \"Oscar_Tomás\",\n",
    "            \"Pau_Sancho\",\n",
    "            \"Pol_Serramalera\",\n",
    "            \"Raúl_Castrillo\",\n",
    "            \"Réka_Varga\",\n",
    "            \"Sara_Peña\",\n",
    "            \"Sergio_Monge\",\n",
    "            \"Toni_Espadas\",\n",
    "            \"Víctor_López\",\n",
    "            \"Yidi_Chi\"]"
   ]
  },
  {
   "cell_type": "code",
   "execution_count": 22,
   "metadata": {},
   "outputs": [],
   "source": [
    "def clean_names(x):\n",
    "    clean=[]\n",
    "    for student in students:\n",
    "        clean.append(student.replace(\"_\",\" \"))\n",
    "    return(clean)"
   ]
  },
  {
   "cell_type": "code",
   "execution_count": 24,
   "metadata": {
    "scrolled": false
   },
   "outputs": [
    {
     "data": {
      "text/plain": [
       "['Aine Gates',\n",
       " 'Àlex Gómez',\n",
       " 'André SantaClara',\n",
       " 'Anne Fonte',\n",
       " 'Arnau Angerri',\n",
       " 'Carla Feriche',\n",
       " 'Daria Gavrilova',\n",
       " 'Dirk Gruhne',\n",
       " 'Erik Termes',\n",
       " 'Filipe Santos',\n",
       " 'Hugo Mellado',\n",
       " 'Jorge Gonzalez',\n",
       " 'Marc Sarrau',\n",
       " 'Maria González',\n",
       " 'Miguel Chacon',\n",
       " 'Miguel Simón',\n",
       " 'Nick Deitmers',\n",
       " 'Oscar Tomás',\n",
       " 'Pau Sancho',\n",
       " 'Pol Serramalera',\n",
       " 'Raúl Castrillo',\n",
       " 'Réka Varga',\n",
       " 'Sara Peña',\n",
       " 'Sergio Monge',\n",
       " 'Toni Espadas',\n",
       " 'Víctor López',\n",
       " 'Yidi Chi']"
      ]
     },
     "execution_count": 24,
     "metadata": {},
     "output_type": "execute_result"
    }
   ],
   "source": [
    "clean_names(students)"
   ]
  },
  {
   "cell_type": "code",
   "execution_count": 28,
   "metadata": {},
   "outputs": [],
   "source": [
    "students = [\"Aine_Gates   \",\n",
    "            \"Àlex_Gómez\",\n",
    "            \"andré_SantaClara\",\n",
    "            \"    Anne_Fonte\",\n",
    "            \"Arnau_Angerri\",\n",
    "            \"Carla_feriche\",\n",
    "            \"Daria_Gavrilova\",\n",
    "            \"Dirk_Gruhne    \",\n",
    "            \"Erik_Termes\",\n",
    "            \"Filipe_Santos\",\n",
    "            \"Hugo_Mellado\",\n",
    "            \"Jorge_Gonzalez\",\n",
    "            \"marc_Sarrau\",\n",
    "            \"Maria_González\",\n",
    "            \"Miguel_Chacon   \",\n",
    "            \"Miguel_Simón\",\n",
    "            \"     Nick_Deitmers\",\n",
    "            \"Oscar_Tomás\",\n",
    "            \"Pau_Sancho\",\n",
    "            \"pol_Serramalera   \",\n",
    "            \"Raúl_Castrillo!\",\n",
    "            \"Réka_varga\",\n",
    "            \"Sara_Peña\",\n",
    "            \"Sergio_Monge     \",\n",
    "            \"Toni_Espadas\",\n",
    "            \"Víctor_López!\",\n",
    "            \"Yidi_Chi   \"]"
   ]
  },
  {
   "cell_type": "code",
   "execution_count": 32,
   "metadata": {},
   "outputs": [
    {
     "data": {
      "text/plain": [
       "['Aine Gates',\n",
       " 'Àlex Gómez',\n",
       " 'André Santaclara',\n",
       " 'Anne Fonte',\n",
       " 'Arnau Angerri',\n",
       " 'Carla Feriche',\n",
       " 'Daria Gavrilova',\n",
       " 'Dirk Gruhne',\n",
       " 'Erik Termes',\n",
       " 'Filipe Santos',\n",
       " 'Hugo Mellado',\n",
       " 'Jorge Gonzalez',\n",
       " 'Marc Sarrau',\n",
       " 'Maria González',\n",
       " 'Miguel Chacon',\n",
       " 'Miguel Simón',\n",
       " 'Nick Deitmers',\n",
       " 'Oscar Tomás',\n",
       " 'Pau Sancho',\n",
       " 'Pol Serramalera',\n",
       " 'Raúl Castrillo',\n",
       " 'Réka Varga',\n",
       " 'Sara Peña',\n",
       " 'Sergio Monge',\n",
       " 'Toni Espadas',\n",
       " 'Víctor López',\n",
       " 'Yidi Chi']"
      ]
     },
     "execution_count": 32,
     "metadata": {},
     "output_type": "execute_result"
    }
   ],
   "source": [
    "def clean_names(x):\n",
    "    clean=[]\n",
    "    for student in x:\n",
    "        student=student.strip()\n",
    "        student=student.replace(\"!\",\"\")\n",
    "        student=student.title()\n",
    "        student=student.replace(\"_\",\" \")\n",
    "        clean.append(student)\n",
    "    return(clean)\n",
    "clean_names(students)"
   ]
  },
  {
   "cell_type": "markdown",
   "metadata": {},
   "source": [
    "Detect colors in sentences:"
   ]
  },
  {
   "cell_type": "code",
   "execution_count": 34,
   "metadata": {},
   "outputs": [],
   "source": [
    "colors = [\"red\", \"blue\", \"green\", \"orange\", \"yellow\", \"black\", \"purple\", \"white\", \"brown\", \"gray\", \"pink\"]\n",
    "\n",
    "sentences = [\"My jacket is green\", \"I like red apples\", \"We are all in a yellow submarine\", \"Black lives matter\",\n",
    "             \"I'm blue da ba dee da ba daa\", \"Purple rain\", \"Coral is far more red than her lips' red\"]"
   ]
  },
  {
   "cell_type": "code",
   "execution_count": 36,
   "metadata": {},
   "outputs": [
    {
     "data": {
      "text/plain": [
       "-1"
      ]
     },
     "execution_count": 36,
     "metadata": {},
     "output_type": "execute_result"
    }
   ],
   "source": [
    "sentences[0].find(\"black\")"
   ]
  },
  {
   "cell_type": "markdown",
   "metadata": {},
   "source": [
    "Have you detected \"Black\"?"
   ]
  },
  {
   "cell_type": "code",
   "execution_count": 24,
   "metadata": {},
   "outputs": [
    {
     "name": "stdout",
     "output_type": "stream",
     "text": [
      "green detected\n",
      "red detected\n",
      "yellow detected\n",
      "black detected\n",
      "blue detected\n",
      "purple detected\n",
      "red detected\n"
     ]
    }
   ],
   "source": []
  },
  {
   "cell_type": "markdown",
   "metadata": {},
   "source": [
    "Make it a function:"
   ]
  },
  {
   "cell_type": "code",
   "execution_count": 25,
   "metadata": {},
   "outputs": [],
   "source": []
  },
  {
   "cell_type": "code",
   "execution_count": 26,
   "metadata": {},
   "outputs": [
    {
     "name": "stdout",
     "output_type": "stream",
     "text": [
      "green detected\n",
      "red detected\n",
      "yellow detected\n",
      "black detected\n",
      "blue detected\n",
      "purple detected\n",
      "red detected\n"
     ]
    }
   ],
   "source": [
    "color_detector(colors, sentences)"
   ]
  },
  {
   "cell_type": "markdown",
   "metadata": {},
   "source": [
    "Replace the color for another color, picked at random:"
   ]
  },
  {
   "cell_type": "code",
   "execution_count": 74,
   "metadata": {},
   "outputs": [
    {
     "name": "stdout",
     "output_type": "stream",
     "text": [
      "My jacket is black\n",
      "I like red apples\n",
      "We are all in a brown submarine\n",
      "Pink lives matter\n",
      "I'm yellow da ba dee da ba daa\n",
      "Orange rain\n",
      "Coral is far more white than her lips' white\n"
     ]
    }
   ],
   "source": []
  }
 ],
 "metadata": {
  "kernelspec": {
   "display_name": "Python 3",
   "language": "python",
   "name": "python3"
  },
  "language_info": {
   "codemirror_mode": {
    "name": "ipython",
    "version": 3
   },
   "file_extension": ".py",
   "mimetype": "text/x-python",
   "name": "python",
   "nbconvert_exporter": "python",
   "pygments_lexer": "ipython3",
   "version": "3.8.3"
  }
 },
 "nbformat": 4,
 "nbformat_minor": 4
}
