{
 "cells": [
  {
   "cell_type": "markdown",
   "metadata": {},
   "source": [
    "# String operations"
   ]
  },
  {
   "cell_type": "markdown",
   "metadata": {},
   "source": [
    "Clean students' names"
   ]
  },
  {
   "cell_type": "code",
   "execution_count": null,
   "metadata": {},
   "outputs": [],
   "source": []
  },
  {
   "cell_type": "markdown",
   "metadata": {},
   "source": [
    "Detect colors in sentences:"
   ]
  },
  {
   "cell_type": "code",
   "execution_count": 18,
   "metadata": {},
   "outputs": [],
   "source": [
    "colors = [\"red\", \"blue\", \"green\", \"orange\", \"yellow\", \"black\", \"purple\", \"white\", \"brown\", \"gray\", \"pink\"]\n",
    "\n",
    "sentences = [\"My jacket is green\", \"I like red apples\", \"We are all in a yellow submarine\", \"Black lives matter\",\n",
    "             \"I'm blue da ba dee da ba daa\", \"Purple rain\", \"Coral is far more red than her lips' red\"]"
   ]
  },
  {
   "cell_type": "code",
   "execution_count": 19,
   "metadata": {},
   "outputs": [
    {
     "name": "stdout",
     "output_type": "stream",
     "text": [
      "green detected\n",
      "red detected\n",
      "yellow detected\n",
      "blue detected\n",
      "red detected\n"
     ]
    }
   ],
   "source": []
  },
  {
   "cell_type": "markdown",
   "metadata": {},
   "source": [
    "Have you detected \"Black\"?"
   ]
  },
  {
   "cell_type": "code",
   "execution_count": 24,
   "metadata": {},
   "outputs": [
    {
     "name": "stdout",
     "output_type": "stream",
     "text": [
      "green detected\n",
      "red detected\n",
      "yellow detected\n",
      "black detected\n",
      "blue detected\n",
      "purple detected\n",
      "red detected\n"
     ]
    }
   ],
   "source": []
  },
  {
   "cell_type": "markdown",
   "metadata": {},
   "source": [
    "Make it a function:"
   ]
  },
  {
   "cell_type": "code",
   "execution_count": 25,
   "metadata": {},
   "outputs": [],
   "source": []
  },
  {
   "cell_type": "code",
   "execution_count": 26,
   "metadata": {},
   "outputs": [
    {
     "name": "stdout",
     "output_type": "stream",
     "text": [
      "green detected\n",
      "red detected\n",
      "yellow detected\n",
      "black detected\n",
      "blue detected\n",
      "purple detected\n",
      "red detected\n"
     ]
    }
   ],
   "source": [
    "color_detector(colors, sentences)"
   ]
  },
  {
   "cell_type": "markdown",
   "metadata": {},
   "source": [
    "Replace the color for another color, picked at random:"
   ]
  },
  {
   "cell_type": "code",
   "execution_count": 74,
   "metadata": {},
   "outputs": [
    {
     "name": "stdout",
     "output_type": "stream",
     "text": [
      "My jacket is black\n",
      "I like red apples\n",
      "We are all in a brown submarine\n",
      "Pink lives matter\n",
      "I'm yellow da ba dee da ba daa\n",
      "Orange rain\n",
      "Coral is far more white than her lips' white\n"
     ]
    }
   ],
   "source": []
  }
 ],
 "metadata": {
  "kernelspec": {
   "display_name": "Python 3",
   "language": "python",
   "name": "python3"
  },
  "language_info": {
   "codemirror_mode": {
    "name": "ipython",
    "version": 3
   },
   "file_extension": ".py",
   "mimetype": "text/x-python",
   "name": "python",
   "nbconvert_exporter": "python",
   "pygments_lexer": "ipython3",
   "version": "3.8.3"
  }
 },
 "nbformat": 4,
 "nbformat_minor": 4
}
