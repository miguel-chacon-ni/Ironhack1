{
 "cells": [
  {
   "cell_type": "markdown",
   "metadata": {},
   "source": [
    "## Functions"
   ]
  },
  {
   "cell_type": "markdown",
   "metadata": {},
   "source": [
    "A function is a 'device' that groups a set of statements so they can be run more than once in a program.\n",
    "\n",
    "They let us specify parameters (arguments) as inputs.\n",
    "\n",
    "**Why use functions?**\n",
    "\n",
    "- _Maximizing code re-use and minimizing redundancy:_\n",
    "\n",
    "Functions allow us to group operations in a single place (with a single name) and call it many times, we have to write less code. 'Packing' your code into functions is generally a way to make it more useful, portable and easy to automatize and re-use.\n",
    "\n",
    "- _Procedural decomposition:_\n",
    "\n",
    "Functions help you split programs into parts that have a meaning of their own. The same way making a pizza can be splitted into 'making the dough', 'adding topings', 'baking', your programs should be split into chunks (functions), each one with its sub-tasks."
   ]
  },
  {
   "cell_type": "markdown",
   "metadata": {},
   "source": [
    "Important: \n",
    "\n",
    "- diference between 'print' and 'return' in a function.\n",
    "\n",
    "- scope rules\n",
    "\n",
    "- argument passing\n"
   ]
  },
  {
   "cell_type": "markdown",
   "metadata": {},
   "source": [
    "### Coding functions\n",
    "\n",
    "- **def** is executable code. We have to execute the code for the function to exist. def creates an object and assigns it to a name. A new function object is created and assigned to the function's name.\n",
    "\n",
    "- **lambda** creates an object but returns it as a result. With lambda expressions we can create functions and obtain their output in a single line.\n",
    "\n",
    "- **return** sends a result back to the caller\n",
    "\n",
    "- **global** and **non-local** adjust the scope of variables. By default, all names assigned in a function are local to that function and exist only while the function runs. To assign a name in the enclosing module, functions need to list it in a global statement. More generally, names are always looked up in scopes—places where variables are stored —and assignments bind names to scopes.\n",
    "\n",
    "- **arguments** are passed by position, unless you specify otherwise\n",
    "\n"
   ]
  },
  {
   "cell_type": "markdown",
   "metadata": {},
   "source": [
    "#### def Statement\n",
    "\n",
    "`def name(arg1, arg2, ... argN):\n",
    "    ...\n",
    "    return value`"
   ]
  },
  {
   "cell_type": "markdown",
   "metadata": {},
   "source": [
    "Because function definition happens at runtime, there’s nothing special about the function name. What’s important is the object to which it refers:\n",
    "\n",
    "\n",
    "`def func():            # Define func this way\n",
    "othername = func           # Assign function object\n",
    "othername()                # Call func again`\n"
   ]
  },
  {
   "cell_type": "markdown",
   "metadata": {},
   "source": [
    "#### Defining a function to divide 2 numbers:"
   ]
  },
  {
   "cell_type": "code",
   "execution_count": 11,
   "metadata": {},
   "outputs": [],
   "source": []
  },
  {
   "cell_type": "markdown",
   "metadata": {},
   "source": [
    "#### Calling the function\n",
    "\n",
    "Unless specified otherwise, arguments are passed in order"
   ]
  },
  {
   "cell_type": "code",
   "execution_count": 12,
   "metadata": {
    "scrolled": true
   },
   "outputs": [
    {
     "data": {
      "text/plain": [
       "5.0"
      ]
     },
     "execution_count": 12,
     "metadata": {},
     "output_type": "execute_result"
    }
   ],
   "source": []
  },
  {
   "cell_type": "markdown",
   "metadata": {},
   "source": [
    "Switch the order of the arguments:"
   ]
  },
  {
   "cell_type": "code",
   "execution_count": null,
   "metadata": {},
   "outputs": [],
   "source": []
  },
  {
   "cell_type": "markdown",
   "metadata": {},
   "source": [
    "Set a default value for an argument:"
   ]
  },
  {
   "cell_type": "code",
   "execution_count": 5,
   "metadata": {},
   "outputs": [],
   "source": [
    "# an argument with a default doesn't need to be passed"
   ]
  },
  {
   "cell_type": "markdown",
   "metadata": {},
   "source": [
    "Arguments are not restricted to an object type (we never declare the types od variables, arguments or return values)"
   ]
  },
  {
   "cell_type": "code",
   "execution_count": null,
   "metadata": {},
   "outputs": [],
   "source": []
  },
  {
   "cell_type": "markdown",
   "metadata": {},
   "source": [
    "What if we really want to constrain the function to only integers"
   ]
  },
  {
   "cell_type": "code",
   "execution_count": null,
   "metadata": {},
   "outputs": [],
   "source": []
  },
  {
   "cell_type": "markdown",
   "metadata": {},
   "source": [
    "Testing for types is not a common practice. Embrace python's flexibility!"
   ]
  },
  {
   "cell_type": "markdown",
   "metadata": {},
   "source": [
    "What if we use print instead of return?"
   ]
  },
  {
   "cell_type": "code",
   "execution_count": 29,
   "metadata": {},
   "outputs": [
    {
     "name": "stdout",
     "output_type": "stream",
     "text": [
      "1_2\n"
     ]
    },
    {
     "ename": "NameError",
     "evalue": "name 'seq1' is not defined",
     "output_type": "error",
     "traceback": [
      "\u001b[1;31m---------------------------------------------------------------------------\u001b[0m",
      "\u001b[1;31mNameError\u001b[0m                                 Traceback (most recent call last)",
      "\u001b[1;32m<ipython-input-29-19fb85f78285>\u001b[0m in \u001b[0;36m<module>\u001b[1;34m\u001b[0m\n\u001b[0;32m      3\u001b[0m     \u001b[0mprint\u001b[0m\u001b[1;33m(\u001b[0m\u001b[0mstr\u001b[0m\u001b[1;33m(\u001b[0m\u001b[0mseq1\u001b[0m\u001b[1;33m)\u001b[0m \u001b[1;33m+\u001b[0m\u001b[1;34m\"_\"\u001b[0m\u001b[1;33m+\u001b[0m \u001b[0mstr\u001b[0m\u001b[1;33m(\u001b[0m\u001b[0mseq2\u001b[0m\u001b[1;33m)\u001b[0m\u001b[1;33m)\u001b[0m\u001b[1;33m\u001b[0m\u001b[1;33m\u001b[0m\u001b[0m\n\u001b[0;32m      4\u001b[0m \u001b[0mintersect\u001b[0m\u001b[1;33m(\u001b[0m\u001b[1;36m1\u001b[0m\u001b[1;33m,\u001b[0m\u001b[1;36m2\u001b[0m\u001b[1;33m)\u001b[0m\u001b[1;33m\u001b[0m\u001b[1;33m\u001b[0m\u001b[0m\n\u001b[1;32m----> 5\u001b[1;33m \u001b[0mlist\u001b[0m\u001b[1;33m=\u001b[0m\u001b[0mstr\u001b[0m\u001b[1;33m(\u001b[0m\u001b[0mseq1\u001b[0m\u001b[1;33m)\u001b[0m \u001b[1;33m+\u001b[0m \u001b[1;34m\"_\"\u001b[0m\u001b[1;33m+\u001b[0m \u001b[0mstr\u001b[0m\u001b[1;33m(\u001b[0m\u001b[0mseq2\u001b[0m\u001b[1;33m)\u001b[0m\u001b[1;33m\u001b[0m\u001b[1;33m\u001b[0m\u001b[0m\n\u001b[0m",
      "\u001b[1;31mNameError\u001b[0m: name 'seq1' is not defined"
     ]
    }
   ],
   "source": [
    "def intersect(seq1, seq2):\n",
    "    str(seq1) + str(seq2)\n",
    "    print(str(seq1) +\"_\"+ str(seq2))\n",
    "intersect(1,2)\n",
    "list=str(seq1) + \"_\"+ str(seq2)"
   ]
  },
  {
   "cell_type": "markdown",
   "metadata": {},
   "source": [
    "#### Build a function to return the intersection of two sets"
   ]
  },
  {
   "cell_type": "code",
   "execution_count": 49,
   "metadata": {},
   "outputs": [],
   "source": [
    "# Build a function to return the intersection of two sets\n",
    "def intersect(seq1, seq2):\n",
    "    list=[]\n",
    "    for x in seq1:\n",
    "        if x in seq2:\n",
    "            list.append(x)\n",
    "    return(list)\n",
    "        "
   ]
  },
  {
   "cell_type": "code",
   "execution_count": 50,
   "metadata": {},
   "outputs": [
    {
     "data": {
      "text/plain": [
       "[1, 2, 3, 5, 13]"
      ]
     },
     "execution_count": 50,
     "metadata": {},
     "output_type": "execute_result"
    }
   ],
   "source": [
    "# test your function\n",
    "small_primes = (1, 2, 3, 5, 7, 11, 13)\n",
    "fibonacci = [0, 1, 1, 2, 3, 5, 8, 13]\n",
    "intersect(small_primes, fibonacci)"
   ]
  },
  {
   "cell_type": "code",
   "execution_count": 8,
   "metadata": {},
   "outputs": [],
   "source": [
    "# Should work with strings as well\n",
    "Javi = \"Javi\"\n",
    "Avión = \"Avión\""
   ]
  },
  {
   "cell_type": "markdown",
   "metadata": {},
   "source": [
    "### Modules\n",
    "\n",
    "Convert this function into a module and import it from another notebook."
   ]
  },
  {
   "cell_type": "markdown",
   "metadata": {},
   "source": [
    "### Scopes\n",
    "\n",
    "#### where's the variable res?\n",
    "\n",
    "It is a local variable: a name that is visible only to code inside the function def and that exists only while the function runs. In fact, because all names assigned in any way inside a function are classified as local variables by default, nearly all the names in intersect are local variables:\n",
    "\n",
    "- res is obviously assigned, so it is a local variable.\n",
    "\n",
    "- Arguments are passed by assignment, so seq1 and seq2 are, too.\n",
    "\n",
    "- The for loop assigns items to a variable, so the name x is also local.\n",
    "\n",
    "When you use a name in a program, Python creates, changes, or looks up the name in what is known as a namespace—a place where names live. When we talk about the search for a name’s value in relation to code, the term scope refers to a namespace: that is, the location of a name’s assignment in your source code determines the scope of the name’s visibility to your code.\n",
    "\n",
    "The place where you assign a name in your source code determines the namespace it will live in, and hence its scope of visibility.\n",
    "\n",
    "- Names assigned inside a def can only be seen by the code within that def. You cannot even refer to such names from outside the function.\n",
    "\n",
    "- Names assigned inside a def do not clash with variables outside the def, even if the same names are used elsewhere. A name X assigned outside a given def (i.e., in a different def or at the top level of a module file) is a completely different variable from a name X assigned inside that def."
   ]
  },
  {
   "cell_type": "code",
   "execution_count": 28,
   "metadata": {},
   "outputs": [
    {
     "name": "stdout",
     "output_type": "stream",
     "text": [
      "1990\n",
      "2020\n"
     ]
    }
   ],
   "source": [
    "x = 1990\n",
    "\n",
    "def func():\n",
    "    x = 2020\n",
    "    print(x)\n",
    "    \n",
    "print(x)\n",
    "func()"
   ]
  },
  {
   "cell_type": "markdown",
   "metadata": {},
   "source": [
    "- If you need to assign a name that lives at the top level of the module enclosing the function, you can do so by declaring it in a global statement inside the function. \n",
    "\n",
    "- If you need to assign a name that lives in an enclosing def, as of Python 3.X you can do so by declaring it in a nonlocal statement."
   ]
  },
  {
   "cell_type": "markdown",
   "metadata": {},
   "source": [
    "Type of assignment within a function classifies a name as local. This includes = statements, module names in import, function names in def, function argument names, and so on. If you assign a name in any way within a def, it will become a local to that function by default.\n",
    "\n",
    "In-place changes to objects do not classify names as locals; only actual name assignments do. \n",
    "\n",
    "For instance, if the name L is assigned to a list at the top level of a module, a statement L = X within a function will classify L as a local, but L.append(X) will not. In the latter case, we are changing the list object that L references, not L itself—L is found in the global scope as usual, and Python happily modifies it without requiring a global (or nonlocal) declaration. As usual, it helps to keep the distinction between names and objects clear: changing an object is not an assignment to a name."
   ]
  },
  {
   "cell_type": "code",
   "execution_count": 19,
   "metadata": {},
   "outputs": [
    {
     "data": {
      "text/plain": [
       "[1, 2, 3, 4]"
      ]
     },
     "execution_count": 19,
     "metadata": {},
     "output_type": "execute_result"
    }
   ],
   "source": [
    "L = [1, 2, 3]\n",
    "\n",
    "def append4():\n",
    "    L.append(4)\n",
    "    return L\n",
    "\n",
    "append4()"
   ]
  },
  {
   "cell_type": "code",
   "execution_count": 20,
   "metadata": {},
   "outputs": [
    {
     "data": {
      "text/plain": [
       "[1, 2, 3, 4]"
      ]
     },
     "execution_count": 20,
     "metadata": {},
     "output_type": "execute_result"
    }
   ],
   "source": [
    "L"
   ]
  },
  {
   "cell_type": "code",
   "execution_count": 11,
   "metadata": {},
   "outputs": [
    {
     "data": {
      "text/plain": [
       "'This is X'"
      ]
     },
     "execution_count": 11,
     "metadata": {},
     "output_type": "execute_result"
    }
   ],
   "source": [
    "L = [1, 2, 3]\n",
    "\n",
    "def transform_L_into_X():\n",
    "    X = \"This is X\"\n",
    "    L = X\n",
    "    return L\n",
    "\n",
    "transform_L_into_X()"
   ]
  },
  {
   "cell_type": "code",
   "execution_count": 22,
   "metadata": {},
   "outputs": [
    {
     "data": {
      "text/plain": [
       "[1, 2, 3, 4, 4]"
      ]
     },
     "execution_count": 22,
     "metadata": {},
     "output_type": "execute_result"
    }
   ],
   "source": [
    "L"
   ]
  },
  {
   "cell_type": "markdown",
   "metadata": {},
   "source": [
    "#### The global statement"
   ]
  },
  {
   "cell_type": "code",
   "execution_count": 82,
   "metadata": {},
   "outputs": [
    {
     "name": "stdout",
     "output_type": "stream",
     "text": [
      "99\n"
     ]
    }
   ],
   "source": [
    "X = 88                         # Global X\n",
    "\n",
    "def func():\n",
    "    global X\n",
    "    X = 99                     # Global X: outside def\n",
    "\n",
    "func()\n",
    "print(X)                       # Prints 99"
   ]
  },
  {
   "cell_type": "markdown",
   "metadata": {},
   "source": [
    "Minimize globals! What is the value of x here? It depends on where you ask during running time, and that's confusing and prone to errors."
   ]
  },
  {
   "cell_type": "markdown",
   "metadata": {},
   "source": [
    "Some more tips for using functions:\n",
    "\n",
    "- each function should have a single, unified purpose.\n",
    "\n",
    "- each function should be relatively small"
   ]
  },
  {
   "cell_type": "markdown",
   "metadata": {},
   "source": [
    "### Lambda functions"
   ]
  },
  {
   "cell_type": "markdown",
   "metadata": {},
   "source": [
    "The lambda tends to intimidate people more than it should. This reaction seems to stem from the name “lambda” itself—a name that comes from the Lisp language, which got it from lambda calculus, which is a form of symbolic logic. \n",
    "\n",
    "It's an **anonymous function**. It's an expression that creates a function, but does not assign it to any name.\n",
    "\n",
    "It can only contain a single expression, not a block of statements.\n"
   ]
  },
  {
   "cell_type": "markdown",
   "metadata": {},
   "source": []
  }
 ],
 "metadata": {
  "kernelspec": {
   "display_name": "Python 3",
   "language": "python",
   "name": "python3"
  },
  "language_info": {
   "codemirror_mode": {
    "name": "ipython",
    "version": 3
   },
   "file_extension": ".py",
   "mimetype": "text/x-python",
   "name": "python",
   "nbconvert_exporter": "python",
   "pygments_lexer": "ipython3",
   "version": "3.8.3"
  }
 },
 "nbformat": 4,
 "nbformat_minor": 4
}
